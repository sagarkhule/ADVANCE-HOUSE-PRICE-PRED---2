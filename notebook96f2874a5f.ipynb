{
 "cells": [
  {
   "cell_type": "code",
   "execution_count": 1,
   "id": "515db9dd",
   "metadata": {
    "_cell_guid": "b1076dfc-b9ad-4769-8c92-a6c4dae69d19",
    "_uuid": "8f2839f25d086af736a60e9eeb907d3b93b6e0e5",
    "execution": {
     "iopub.execute_input": "2021-08-24T07:22:04.736383Z",
     "iopub.status.busy": "2021-08-24T07:22:04.735603Z",
     "iopub.status.idle": "2021-08-24T07:22:05.875235Z",
     "shell.execute_reply": "2021-08-24T07:22:05.875797Z",
     "shell.execute_reply.started": "2021-08-24T07:18:42.773645Z"
    },
    "papermill": {
     "duration": 1.18363,
     "end_time": "2021-08-24T07:22:05.876117",
     "exception": false,
     "start_time": "2021-08-24T07:22:04.692487",
     "status": "completed"
    },
    "tags": []
   },
   "outputs": [
    {
     "name": "stdout",
     "output_type": "stream",
     "text": [
      "/kaggle/input/house-prices-advanced-regression-techniques/sample_submission.csv\n",
      "/kaggle/input/house-prices-advanced-regression-techniques/data_description.txt\n",
      "/kaggle/input/house-prices-advanced-regression-techniques/train.csv\n",
      "/kaggle/input/house-prices-advanced-regression-techniques/test.csv\n"
     ]
    }
   ],
   "source": [
    "# This Python 3 environment comes with many helpful analytics libraries installed\n",
    "# It is defined by the kaggle/python Docker image: https://github.com/kaggle/docker-python\n",
    "# For example, here's several helpful packages to load\n",
    "\n",
    "#Library for mathematical computations\n",
    "import numpy as np # linear algebra\n",
    "import pandas as pd # data processing, CSV file I/O (e.g. pd.read_csv)\n",
    "\n",
    "#Library for Modelling\n",
    "from sklearn.ensemble import RandomForestRegressor\n",
    "from sklearn.linear_model import LinearRegression\n",
    "from sklearn.linear_model import Lasso\n",
    "from sklearn.linear_model import Ridge\n",
    "\n",
    "#Library for Visualization\n",
    "import seaborn as sns\n",
    "import matplotlib.pyplot as plt\n",
    "from matplotlib.pyplot import figure\n",
    "\n",
    "%matplotlib inline\n",
    "\n",
    "# Input data files are available in the read-only \"../input/\" directory\n",
    "# For example, running this (by clicking run or pressing Shift+Enter) will list all files under the input directory\n",
    "\n",
    "import os\n",
    "for dirname, _, filenames in os.walk('/kaggle/input'):\n",
    "    for filename in filenames:\n",
    "        print(os.path.join(dirname, filename))\n",
    "\n",
    "# You can write up to 20GB to the current directory (/kaggle/working/) that gets preserved as output when you create a version using \"Save & Run All\" \n",
    "# You can also write temporary files to /kaggle/temp/, but they won't be saved outside of the current session"
   ]
  },
  {
   "cell_type": "code",
   "execution_count": 2,
   "id": "8105f34d",
   "metadata": {
    "execution": {
     "iopub.execute_input": "2021-08-24T07:22:05.928566Z",
     "iopub.status.busy": "2021-08-24T07:22:05.927992Z",
     "iopub.status.idle": "2021-08-24T07:22:05.998706Z",
     "shell.execute_reply": "2021-08-24T07:22:05.998185Z",
     "shell.execute_reply.started": "2021-08-24T07:18:44.052717Z"
    },
    "papermill": {
     "duration": 0.098445,
     "end_time": "2021-08-24T07:22:05.998844",
     "exception": false,
     "start_time": "2021-08-24T07:22:05.900399",
     "status": "completed"
    },
    "tags": []
   },
   "outputs": [],
   "source": [
    "#Loading data as Training and Testing sets\n",
    "train_data=pd.read_csv('/kaggle/input/house-prices-advanced-regression-techniques/train.csv')\n",
    "test_data=pd.read_csv('/kaggle/input/house-prices-advanced-regression-techniques/test.csv')"
   ]
  },
  {
   "cell_type": "code",
   "execution_count": 3,
   "id": "9a33a3cb",
   "metadata": {
    "execution": {
     "iopub.execute_input": "2021-08-24T07:22:06.059984Z",
     "iopub.status.busy": "2021-08-24T07:22:06.059194Z",
     "iopub.status.idle": "2021-08-24T07:22:06.083263Z",
     "shell.execute_reply": "2021-08-24T07:22:06.083686Z",
     "shell.execute_reply.started": "2021-08-24T07:18:44.127066Z"
    },
    "papermill": {
     "duration": 0.061936,
     "end_time": "2021-08-24T07:22:06.083817",
     "exception": false,
     "start_time": "2021-08-24T07:22:06.021881",
     "status": "completed"
    },
    "tags": []
   },
   "outputs": [
    {
     "data": {
      "text/html": [
       "<div>\n",
       "<style scoped>\n",
       "    .dataframe tbody tr th:only-of-type {\n",
       "        vertical-align: middle;\n",
       "    }\n",
       "\n",
       "    .dataframe tbody tr th {\n",
       "        vertical-align: top;\n",
       "    }\n",
       "\n",
       "    .dataframe thead th {\n",
       "        text-align: right;\n",
       "    }\n",
       "</style>\n",
       "<table border=\"1\" class=\"dataframe\">\n",
       "  <thead>\n",
       "    <tr style=\"text-align: right;\">\n",
       "      <th></th>\n",
       "      <th>Id</th>\n",
       "      <th>MSSubClass</th>\n",
       "      <th>MSZoning</th>\n",
       "      <th>LotFrontage</th>\n",
       "      <th>LotArea</th>\n",
       "      <th>Street</th>\n",
       "      <th>Alley</th>\n",
       "      <th>LotShape</th>\n",
       "      <th>LandContour</th>\n",
       "      <th>Utilities</th>\n",
       "      <th>...</th>\n",
       "      <th>PoolArea</th>\n",
       "      <th>PoolQC</th>\n",
       "      <th>Fence</th>\n",
       "      <th>MiscFeature</th>\n",
       "      <th>MiscVal</th>\n",
       "      <th>MoSold</th>\n",
       "      <th>YrSold</th>\n",
       "      <th>SaleType</th>\n",
       "      <th>SaleCondition</th>\n",
       "      <th>SalePrice</th>\n",
       "    </tr>\n",
       "  </thead>\n",
       "  <tbody>\n",
       "    <tr>\n",
       "      <th>0</th>\n",
       "      <td>1</td>\n",
       "      <td>60</td>\n",
       "      <td>RL</td>\n",
       "      <td>65.0</td>\n",
       "      <td>8450</td>\n",
       "      <td>Pave</td>\n",
       "      <td>NaN</td>\n",
       "      <td>Reg</td>\n",
       "      <td>Lvl</td>\n",
       "      <td>AllPub</td>\n",
       "      <td>...</td>\n",
       "      <td>0</td>\n",
       "      <td>NaN</td>\n",
       "      <td>NaN</td>\n",
       "      <td>NaN</td>\n",
       "      <td>0</td>\n",
       "      <td>2</td>\n",
       "      <td>2008</td>\n",
       "      <td>WD</td>\n",
       "      <td>Normal</td>\n",
       "      <td>208500</td>\n",
       "    </tr>\n",
       "    <tr>\n",
       "      <th>1</th>\n",
       "      <td>2</td>\n",
       "      <td>20</td>\n",
       "      <td>RL</td>\n",
       "      <td>80.0</td>\n",
       "      <td>9600</td>\n",
       "      <td>Pave</td>\n",
       "      <td>NaN</td>\n",
       "      <td>Reg</td>\n",
       "      <td>Lvl</td>\n",
       "      <td>AllPub</td>\n",
       "      <td>...</td>\n",
       "      <td>0</td>\n",
       "      <td>NaN</td>\n",
       "      <td>NaN</td>\n",
       "      <td>NaN</td>\n",
       "      <td>0</td>\n",
       "      <td>5</td>\n",
       "      <td>2007</td>\n",
       "      <td>WD</td>\n",
       "      <td>Normal</td>\n",
       "      <td>181500</td>\n",
       "    </tr>\n",
       "    <tr>\n",
       "      <th>2</th>\n",
       "      <td>3</td>\n",
       "      <td>60</td>\n",
       "      <td>RL</td>\n",
       "      <td>68.0</td>\n",
       "      <td>11250</td>\n",
       "      <td>Pave</td>\n",
       "      <td>NaN</td>\n",
       "      <td>IR1</td>\n",
       "      <td>Lvl</td>\n",
       "      <td>AllPub</td>\n",
       "      <td>...</td>\n",
       "      <td>0</td>\n",
       "      <td>NaN</td>\n",
       "      <td>NaN</td>\n",
       "      <td>NaN</td>\n",
       "      <td>0</td>\n",
       "      <td>9</td>\n",
       "      <td>2008</td>\n",
       "      <td>WD</td>\n",
       "      <td>Normal</td>\n",
       "      <td>223500</td>\n",
       "    </tr>\n",
       "    <tr>\n",
       "      <th>3</th>\n",
       "      <td>4</td>\n",
       "      <td>70</td>\n",
       "      <td>RL</td>\n",
       "      <td>60.0</td>\n",
       "      <td>9550</td>\n",
       "      <td>Pave</td>\n",
       "      <td>NaN</td>\n",
       "      <td>IR1</td>\n",
       "      <td>Lvl</td>\n",
       "      <td>AllPub</td>\n",
       "      <td>...</td>\n",
       "      <td>0</td>\n",
       "      <td>NaN</td>\n",
       "      <td>NaN</td>\n",
       "      <td>NaN</td>\n",
       "      <td>0</td>\n",
       "      <td>2</td>\n",
       "      <td>2006</td>\n",
       "      <td>WD</td>\n",
       "      <td>Abnorml</td>\n",
       "      <td>140000</td>\n",
       "    </tr>\n",
       "    <tr>\n",
       "      <th>4</th>\n",
       "      <td>5</td>\n",
       "      <td>60</td>\n",
       "      <td>RL</td>\n",
       "      <td>84.0</td>\n",
       "      <td>14260</td>\n",
       "      <td>Pave</td>\n",
       "      <td>NaN</td>\n",
       "      <td>IR1</td>\n",
       "      <td>Lvl</td>\n",
       "      <td>AllPub</td>\n",
       "      <td>...</td>\n",
       "      <td>0</td>\n",
       "      <td>NaN</td>\n",
       "      <td>NaN</td>\n",
       "      <td>NaN</td>\n",
       "      <td>0</td>\n",
       "      <td>12</td>\n",
       "      <td>2008</td>\n",
       "      <td>WD</td>\n",
       "      <td>Normal</td>\n",
       "      <td>250000</td>\n",
       "    </tr>\n",
       "  </tbody>\n",
       "</table>\n",
       "<p>5 rows × 81 columns</p>\n",
       "</div>"
      ],
      "text/plain": [
       "   Id  MSSubClass MSZoning  LotFrontage  LotArea Street Alley LotShape  \\\n",
       "0   1          60       RL         65.0     8450   Pave   NaN      Reg   \n",
       "1   2          20       RL         80.0     9600   Pave   NaN      Reg   \n",
       "2   3          60       RL         68.0    11250   Pave   NaN      IR1   \n",
       "3   4          70       RL         60.0     9550   Pave   NaN      IR1   \n",
       "4   5          60       RL         84.0    14260   Pave   NaN      IR1   \n",
       "\n",
       "  LandContour Utilities  ... PoolArea PoolQC Fence MiscFeature MiscVal MoSold  \\\n",
       "0         Lvl    AllPub  ...        0    NaN   NaN         NaN       0      2   \n",
       "1         Lvl    AllPub  ...        0    NaN   NaN         NaN       0      5   \n",
       "2         Lvl    AllPub  ...        0    NaN   NaN         NaN       0      9   \n",
       "3         Lvl    AllPub  ...        0    NaN   NaN         NaN       0      2   \n",
       "4         Lvl    AllPub  ...        0    NaN   NaN         NaN       0     12   \n",
       "\n",
       "  YrSold  SaleType  SaleCondition  SalePrice  \n",
       "0   2008        WD         Normal     208500  \n",
       "1   2007        WD         Normal     181500  \n",
       "2   2008        WD         Normal     223500  \n",
       "3   2006        WD        Abnorml     140000  \n",
       "4   2008        WD         Normal     250000  \n",
       "\n",
       "[5 rows x 81 columns]"
      ]
     },
     "execution_count": 3,
     "metadata": {},
     "output_type": "execute_result"
    }
   ],
   "source": [
    "train_data.head()"
   ]
  },
  {
   "cell_type": "code",
   "execution_count": 4,
   "id": "7b278a73",
   "metadata": {
    "execution": {
     "iopub.execute_input": "2021-08-24T07:22:06.155098Z",
     "iopub.status.busy": "2021-08-24T07:22:06.154193Z",
     "iopub.status.idle": "2021-08-24T07:22:06.188080Z",
     "shell.execute_reply": "2021-08-24T07:22:06.187410Z",
     "shell.execute_reply.started": "2021-08-24T07:18:44.167018Z"
    },
    "papermill": {
     "duration": 0.080618,
     "end_time": "2021-08-24T07:22:06.188242",
     "exception": false,
     "start_time": "2021-08-24T07:22:06.107624",
     "status": "completed"
    },
    "tags": []
   },
   "outputs": [
    {
     "data": {
      "text/html": [
       "<div>\n",
       "<style scoped>\n",
       "    .dataframe tbody tr th:only-of-type {\n",
       "        vertical-align: middle;\n",
       "    }\n",
       "\n",
       "    .dataframe tbody tr th {\n",
       "        vertical-align: top;\n",
       "    }\n",
       "\n",
       "    .dataframe thead th {\n",
       "        text-align: right;\n",
       "    }\n",
       "</style>\n",
       "<table border=\"1\" class=\"dataframe\">\n",
       "  <thead>\n",
       "    <tr style=\"text-align: right;\">\n",
       "      <th></th>\n",
       "      <th>Id</th>\n",
       "      <th>MSSubClass</th>\n",
       "      <th>MSZoning</th>\n",
       "      <th>LotFrontage</th>\n",
       "      <th>LotArea</th>\n",
       "      <th>Street</th>\n",
       "      <th>Alley</th>\n",
       "      <th>LotShape</th>\n",
       "      <th>LandContour</th>\n",
       "      <th>Utilities</th>\n",
       "      <th>...</th>\n",
       "      <th>ScreenPorch</th>\n",
       "      <th>PoolArea</th>\n",
       "      <th>PoolQC</th>\n",
       "      <th>Fence</th>\n",
       "      <th>MiscFeature</th>\n",
       "      <th>MiscVal</th>\n",
       "      <th>MoSold</th>\n",
       "      <th>YrSold</th>\n",
       "      <th>SaleType</th>\n",
       "      <th>SaleCondition</th>\n",
       "    </tr>\n",
       "  </thead>\n",
       "  <tbody>\n",
       "    <tr>\n",
       "      <th>0</th>\n",
       "      <td>1461</td>\n",
       "      <td>20</td>\n",
       "      <td>RH</td>\n",
       "      <td>80.0</td>\n",
       "      <td>11622</td>\n",
       "      <td>Pave</td>\n",
       "      <td>NaN</td>\n",
       "      <td>Reg</td>\n",
       "      <td>Lvl</td>\n",
       "      <td>AllPub</td>\n",
       "      <td>...</td>\n",
       "      <td>120</td>\n",
       "      <td>0</td>\n",
       "      <td>NaN</td>\n",
       "      <td>MnPrv</td>\n",
       "      <td>NaN</td>\n",
       "      <td>0</td>\n",
       "      <td>6</td>\n",
       "      <td>2010</td>\n",
       "      <td>WD</td>\n",
       "      <td>Normal</td>\n",
       "    </tr>\n",
       "    <tr>\n",
       "      <th>1</th>\n",
       "      <td>1462</td>\n",
       "      <td>20</td>\n",
       "      <td>RL</td>\n",
       "      <td>81.0</td>\n",
       "      <td>14267</td>\n",
       "      <td>Pave</td>\n",
       "      <td>NaN</td>\n",
       "      <td>IR1</td>\n",
       "      <td>Lvl</td>\n",
       "      <td>AllPub</td>\n",
       "      <td>...</td>\n",
       "      <td>0</td>\n",
       "      <td>0</td>\n",
       "      <td>NaN</td>\n",
       "      <td>NaN</td>\n",
       "      <td>Gar2</td>\n",
       "      <td>12500</td>\n",
       "      <td>6</td>\n",
       "      <td>2010</td>\n",
       "      <td>WD</td>\n",
       "      <td>Normal</td>\n",
       "    </tr>\n",
       "    <tr>\n",
       "      <th>2</th>\n",
       "      <td>1463</td>\n",
       "      <td>60</td>\n",
       "      <td>RL</td>\n",
       "      <td>74.0</td>\n",
       "      <td>13830</td>\n",
       "      <td>Pave</td>\n",
       "      <td>NaN</td>\n",
       "      <td>IR1</td>\n",
       "      <td>Lvl</td>\n",
       "      <td>AllPub</td>\n",
       "      <td>...</td>\n",
       "      <td>0</td>\n",
       "      <td>0</td>\n",
       "      <td>NaN</td>\n",
       "      <td>MnPrv</td>\n",
       "      <td>NaN</td>\n",
       "      <td>0</td>\n",
       "      <td>3</td>\n",
       "      <td>2010</td>\n",
       "      <td>WD</td>\n",
       "      <td>Normal</td>\n",
       "    </tr>\n",
       "    <tr>\n",
       "      <th>3</th>\n",
       "      <td>1464</td>\n",
       "      <td>60</td>\n",
       "      <td>RL</td>\n",
       "      <td>78.0</td>\n",
       "      <td>9978</td>\n",
       "      <td>Pave</td>\n",
       "      <td>NaN</td>\n",
       "      <td>IR1</td>\n",
       "      <td>Lvl</td>\n",
       "      <td>AllPub</td>\n",
       "      <td>...</td>\n",
       "      <td>0</td>\n",
       "      <td>0</td>\n",
       "      <td>NaN</td>\n",
       "      <td>NaN</td>\n",
       "      <td>NaN</td>\n",
       "      <td>0</td>\n",
       "      <td>6</td>\n",
       "      <td>2010</td>\n",
       "      <td>WD</td>\n",
       "      <td>Normal</td>\n",
       "    </tr>\n",
       "    <tr>\n",
       "      <th>4</th>\n",
       "      <td>1465</td>\n",
       "      <td>120</td>\n",
       "      <td>RL</td>\n",
       "      <td>43.0</td>\n",
       "      <td>5005</td>\n",
       "      <td>Pave</td>\n",
       "      <td>NaN</td>\n",
       "      <td>IR1</td>\n",
       "      <td>HLS</td>\n",
       "      <td>AllPub</td>\n",
       "      <td>...</td>\n",
       "      <td>144</td>\n",
       "      <td>0</td>\n",
       "      <td>NaN</td>\n",
       "      <td>NaN</td>\n",
       "      <td>NaN</td>\n",
       "      <td>0</td>\n",
       "      <td>1</td>\n",
       "      <td>2010</td>\n",
       "      <td>WD</td>\n",
       "      <td>Normal</td>\n",
       "    </tr>\n",
       "  </tbody>\n",
       "</table>\n",
       "<p>5 rows × 80 columns</p>\n",
       "</div>"
      ],
      "text/plain": [
       "     Id  MSSubClass MSZoning  LotFrontage  LotArea Street Alley LotShape  \\\n",
       "0  1461          20       RH         80.0    11622   Pave   NaN      Reg   \n",
       "1  1462          20       RL         81.0    14267   Pave   NaN      IR1   \n",
       "2  1463          60       RL         74.0    13830   Pave   NaN      IR1   \n",
       "3  1464          60       RL         78.0     9978   Pave   NaN      IR1   \n",
       "4  1465         120       RL         43.0     5005   Pave   NaN      IR1   \n",
       "\n",
       "  LandContour Utilities  ... ScreenPorch PoolArea PoolQC  Fence MiscFeature  \\\n",
       "0         Lvl    AllPub  ...         120        0    NaN  MnPrv         NaN   \n",
       "1         Lvl    AllPub  ...           0        0    NaN    NaN        Gar2   \n",
       "2         Lvl    AllPub  ...           0        0    NaN  MnPrv         NaN   \n",
       "3         Lvl    AllPub  ...           0        0    NaN    NaN         NaN   \n",
       "4         HLS    AllPub  ...         144        0    NaN    NaN         NaN   \n",
       "\n",
       "  MiscVal MoSold  YrSold  SaleType  SaleCondition  \n",
       "0       0      6    2010        WD         Normal  \n",
       "1   12500      6    2010        WD         Normal  \n",
       "2       0      3    2010        WD         Normal  \n",
       "3       0      6    2010        WD         Normal  \n",
       "4       0      1    2010        WD         Normal  \n",
       "\n",
       "[5 rows x 80 columns]"
      ]
     },
     "execution_count": 4,
     "metadata": {},
     "output_type": "execute_result"
    }
   ],
   "source": [
    "test_data.head()"
   ]
  },
  {
   "cell_type": "markdown",
   "id": "4c8c6054",
   "metadata": {
    "papermill": {
     "duration": 0.034945,
     "end_time": "2021-08-24T07:22:06.253286",
     "exception": false,
     "start_time": "2021-08-24T07:22:06.218341",
     "status": "completed"
    },
    "tags": []
   },
   "source": [
    "**Preparing Training Data**"
   ]
  },
  {
   "cell_type": "code",
   "execution_count": 5,
   "id": "bb4c75c6",
   "metadata": {
    "execution": {
     "iopub.execute_input": "2021-08-24T07:22:06.312485Z",
     "iopub.status.busy": "2021-08-24T07:22:06.311581Z",
     "iopub.status.idle": "2021-08-24T07:22:06.398387Z",
     "shell.execute_reply": "2021-08-24T07:22:06.398809Z",
     "shell.execute_reply.started": "2021-08-24T07:18:44.196282Z"
    },
    "papermill": {
     "duration": 0.120004,
     "end_time": "2021-08-24T07:22:06.398955",
     "exception": false,
     "start_time": "2021-08-24T07:22:06.278951",
     "status": "completed"
    },
    "tags": []
   },
   "outputs": [
    {
     "data": {
      "text/html": [
       "<div>\n",
       "<style scoped>\n",
       "    .dataframe tbody tr th:only-of-type {\n",
       "        vertical-align: middle;\n",
       "    }\n",
       "\n",
       "    .dataframe tbody tr th {\n",
       "        vertical-align: top;\n",
       "    }\n",
       "\n",
       "    .dataframe thead th {\n",
       "        text-align: right;\n",
       "    }\n",
       "</style>\n",
       "<table border=\"1\" class=\"dataframe\">\n",
       "  <thead>\n",
       "    <tr style=\"text-align: right;\">\n",
       "      <th></th>\n",
       "      <th>Id</th>\n",
       "      <th>MSSubClass</th>\n",
       "      <th>LotFrontage</th>\n",
       "      <th>LotArea</th>\n",
       "      <th>OverallQual</th>\n",
       "      <th>OverallCond</th>\n",
       "      <th>YearBuilt</th>\n",
       "      <th>YearRemodAdd</th>\n",
       "      <th>MasVnrArea</th>\n",
       "      <th>BsmtFinSF1</th>\n",
       "      <th>...</th>\n",
       "      <th>WoodDeckSF</th>\n",
       "      <th>OpenPorchSF</th>\n",
       "      <th>EnclosedPorch</th>\n",
       "      <th>3SsnPorch</th>\n",
       "      <th>ScreenPorch</th>\n",
       "      <th>PoolArea</th>\n",
       "      <th>MiscVal</th>\n",
       "      <th>MoSold</th>\n",
       "      <th>YrSold</th>\n",
       "      <th>SalePrice</th>\n",
       "    </tr>\n",
       "  </thead>\n",
       "  <tbody>\n",
       "    <tr>\n",
       "      <th>count</th>\n",
       "      <td>1460.000000</td>\n",
       "      <td>1460.000000</td>\n",
       "      <td>1201.000000</td>\n",
       "      <td>1460.000000</td>\n",
       "      <td>1460.000000</td>\n",
       "      <td>1460.000000</td>\n",
       "      <td>1460.000000</td>\n",
       "      <td>1460.000000</td>\n",
       "      <td>1452.000000</td>\n",
       "      <td>1460.000000</td>\n",
       "      <td>...</td>\n",
       "      <td>1460.000000</td>\n",
       "      <td>1460.000000</td>\n",
       "      <td>1460.000000</td>\n",
       "      <td>1460.000000</td>\n",
       "      <td>1460.000000</td>\n",
       "      <td>1460.000000</td>\n",
       "      <td>1460.000000</td>\n",
       "      <td>1460.000000</td>\n",
       "      <td>1460.000000</td>\n",
       "      <td>1460.000000</td>\n",
       "    </tr>\n",
       "    <tr>\n",
       "      <th>mean</th>\n",
       "      <td>730.500000</td>\n",
       "      <td>56.897260</td>\n",
       "      <td>70.049958</td>\n",
       "      <td>10516.828082</td>\n",
       "      <td>6.099315</td>\n",
       "      <td>5.575342</td>\n",
       "      <td>1971.267808</td>\n",
       "      <td>1984.865753</td>\n",
       "      <td>103.685262</td>\n",
       "      <td>443.639726</td>\n",
       "      <td>...</td>\n",
       "      <td>94.244521</td>\n",
       "      <td>46.660274</td>\n",
       "      <td>21.954110</td>\n",
       "      <td>3.409589</td>\n",
       "      <td>15.060959</td>\n",
       "      <td>2.758904</td>\n",
       "      <td>43.489041</td>\n",
       "      <td>6.321918</td>\n",
       "      <td>2007.815753</td>\n",
       "      <td>180921.195890</td>\n",
       "    </tr>\n",
       "    <tr>\n",
       "      <th>std</th>\n",
       "      <td>421.610009</td>\n",
       "      <td>42.300571</td>\n",
       "      <td>24.284752</td>\n",
       "      <td>9981.264932</td>\n",
       "      <td>1.382997</td>\n",
       "      <td>1.112799</td>\n",
       "      <td>30.202904</td>\n",
       "      <td>20.645407</td>\n",
       "      <td>181.066207</td>\n",
       "      <td>456.098091</td>\n",
       "      <td>...</td>\n",
       "      <td>125.338794</td>\n",
       "      <td>66.256028</td>\n",
       "      <td>61.119149</td>\n",
       "      <td>29.317331</td>\n",
       "      <td>55.757415</td>\n",
       "      <td>40.177307</td>\n",
       "      <td>496.123024</td>\n",
       "      <td>2.703626</td>\n",
       "      <td>1.328095</td>\n",
       "      <td>79442.502883</td>\n",
       "    </tr>\n",
       "    <tr>\n",
       "      <th>min</th>\n",
       "      <td>1.000000</td>\n",
       "      <td>20.000000</td>\n",
       "      <td>21.000000</td>\n",
       "      <td>1300.000000</td>\n",
       "      <td>1.000000</td>\n",
       "      <td>1.000000</td>\n",
       "      <td>1872.000000</td>\n",
       "      <td>1950.000000</td>\n",
       "      <td>0.000000</td>\n",
       "      <td>0.000000</td>\n",
       "      <td>...</td>\n",
       "      <td>0.000000</td>\n",
       "      <td>0.000000</td>\n",
       "      <td>0.000000</td>\n",
       "      <td>0.000000</td>\n",
       "      <td>0.000000</td>\n",
       "      <td>0.000000</td>\n",
       "      <td>0.000000</td>\n",
       "      <td>1.000000</td>\n",
       "      <td>2006.000000</td>\n",
       "      <td>34900.000000</td>\n",
       "    </tr>\n",
       "    <tr>\n",
       "      <th>25%</th>\n",
       "      <td>365.750000</td>\n",
       "      <td>20.000000</td>\n",
       "      <td>59.000000</td>\n",
       "      <td>7553.500000</td>\n",
       "      <td>5.000000</td>\n",
       "      <td>5.000000</td>\n",
       "      <td>1954.000000</td>\n",
       "      <td>1967.000000</td>\n",
       "      <td>0.000000</td>\n",
       "      <td>0.000000</td>\n",
       "      <td>...</td>\n",
       "      <td>0.000000</td>\n",
       "      <td>0.000000</td>\n",
       "      <td>0.000000</td>\n",
       "      <td>0.000000</td>\n",
       "      <td>0.000000</td>\n",
       "      <td>0.000000</td>\n",
       "      <td>0.000000</td>\n",
       "      <td>5.000000</td>\n",
       "      <td>2007.000000</td>\n",
       "      <td>129975.000000</td>\n",
       "    </tr>\n",
       "    <tr>\n",
       "      <th>50%</th>\n",
       "      <td>730.500000</td>\n",
       "      <td>50.000000</td>\n",
       "      <td>69.000000</td>\n",
       "      <td>9478.500000</td>\n",
       "      <td>6.000000</td>\n",
       "      <td>5.000000</td>\n",
       "      <td>1973.000000</td>\n",
       "      <td>1994.000000</td>\n",
       "      <td>0.000000</td>\n",
       "      <td>383.500000</td>\n",
       "      <td>...</td>\n",
       "      <td>0.000000</td>\n",
       "      <td>25.000000</td>\n",
       "      <td>0.000000</td>\n",
       "      <td>0.000000</td>\n",
       "      <td>0.000000</td>\n",
       "      <td>0.000000</td>\n",
       "      <td>0.000000</td>\n",
       "      <td>6.000000</td>\n",
       "      <td>2008.000000</td>\n",
       "      <td>163000.000000</td>\n",
       "    </tr>\n",
       "    <tr>\n",
       "      <th>75%</th>\n",
       "      <td>1095.250000</td>\n",
       "      <td>70.000000</td>\n",
       "      <td>80.000000</td>\n",
       "      <td>11601.500000</td>\n",
       "      <td>7.000000</td>\n",
       "      <td>6.000000</td>\n",
       "      <td>2000.000000</td>\n",
       "      <td>2004.000000</td>\n",
       "      <td>166.000000</td>\n",
       "      <td>712.250000</td>\n",
       "      <td>...</td>\n",
       "      <td>168.000000</td>\n",
       "      <td>68.000000</td>\n",
       "      <td>0.000000</td>\n",
       "      <td>0.000000</td>\n",
       "      <td>0.000000</td>\n",
       "      <td>0.000000</td>\n",
       "      <td>0.000000</td>\n",
       "      <td>8.000000</td>\n",
       "      <td>2009.000000</td>\n",
       "      <td>214000.000000</td>\n",
       "    </tr>\n",
       "    <tr>\n",
       "      <th>max</th>\n",
       "      <td>1460.000000</td>\n",
       "      <td>190.000000</td>\n",
       "      <td>313.000000</td>\n",
       "      <td>215245.000000</td>\n",
       "      <td>10.000000</td>\n",
       "      <td>9.000000</td>\n",
       "      <td>2010.000000</td>\n",
       "      <td>2010.000000</td>\n",
       "      <td>1600.000000</td>\n",
       "      <td>5644.000000</td>\n",
       "      <td>...</td>\n",
       "      <td>857.000000</td>\n",
       "      <td>547.000000</td>\n",
       "      <td>552.000000</td>\n",
       "      <td>508.000000</td>\n",
       "      <td>480.000000</td>\n",
       "      <td>738.000000</td>\n",
       "      <td>15500.000000</td>\n",
       "      <td>12.000000</td>\n",
       "      <td>2010.000000</td>\n",
       "      <td>755000.000000</td>\n",
       "    </tr>\n",
       "  </tbody>\n",
       "</table>\n",
       "<p>8 rows × 38 columns</p>\n",
       "</div>"
      ],
      "text/plain": [
       "                Id   MSSubClass  LotFrontage        LotArea  OverallQual  \\\n",
       "count  1460.000000  1460.000000  1201.000000    1460.000000  1460.000000   \n",
       "mean    730.500000    56.897260    70.049958   10516.828082     6.099315   \n",
       "std     421.610009    42.300571    24.284752    9981.264932     1.382997   \n",
       "min       1.000000    20.000000    21.000000    1300.000000     1.000000   \n",
       "25%     365.750000    20.000000    59.000000    7553.500000     5.000000   \n",
       "50%     730.500000    50.000000    69.000000    9478.500000     6.000000   \n",
       "75%    1095.250000    70.000000    80.000000   11601.500000     7.000000   \n",
       "max    1460.000000   190.000000   313.000000  215245.000000    10.000000   \n",
       "\n",
       "       OverallCond    YearBuilt  YearRemodAdd   MasVnrArea   BsmtFinSF1  ...  \\\n",
       "count  1460.000000  1460.000000   1460.000000  1452.000000  1460.000000  ...   \n",
       "mean      5.575342  1971.267808   1984.865753   103.685262   443.639726  ...   \n",
       "std       1.112799    30.202904     20.645407   181.066207   456.098091  ...   \n",
       "min       1.000000  1872.000000   1950.000000     0.000000     0.000000  ...   \n",
       "25%       5.000000  1954.000000   1967.000000     0.000000     0.000000  ...   \n",
       "50%       5.000000  1973.000000   1994.000000     0.000000   383.500000  ...   \n",
       "75%       6.000000  2000.000000   2004.000000   166.000000   712.250000  ...   \n",
       "max       9.000000  2010.000000   2010.000000  1600.000000  5644.000000  ...   \n",
       "\n",
       "        WoodDeckSF  OpenPorchSF  EnclosedPorch    3SsnPorch  ScreenPorch  \\\n",
       "count  1460.000000  1460.000000    1460.000000  1460.000000  1460.000000   \n",
       "mean     94.244521    46.660274      21.954110     3.409589    15.060959   \n",
       "std     125.338794    66.256028      61.119149    29.317331    55.757415   \n",
       "min       0.000000     0.000000       0.000000     0.000000     0.000000   \n",
       "25%       0.000000     0.000000       0.000000     0.000000     0.000000   \n",
       "50%       0.000000    25.000000       0.000000     0.000000     0.000000   \n",
       "75%     168.000000    68.000000       0.000000     0.000000     0.000000   \n",
       "max     857.000000   547.000000     552.000000   508.000000   480.000000   \n",
       "\n",
       "          PoolArea       MiscVal       MoSold       YrSold      SalePrice  \n",
       "count  1460.000000   1460.000000  1460.000000  1460.000000    1460.000000  \n",
       "mean      2.758904     43.489041     6.321918  2007.815753  180921.195890  \n",
       "std      40.177307    496.123024     2.703626     1.328095   79442.502883  \n",
       "min       0.000000      0.000000     1.000000  2006.000000   34900.000000  \n",
       "25%       0.000000      0.000000     5.000000  2007.000000  129975.000000  \n",
       "50%       0.000000      0.000000     6.000000  2008.000000  163000.000000  \n",
       "75%       0.000000      0.000000     8.000000  2009.000000  214000.000000  \n",
       "max     738.000000  15500.000000    12.000000  2010.000000  755000.000000  \n",
       "\n",
       "[8 rows x 38 columns]"
      ]
     },
     "execution_count": 5,
     "metadata": {},
     "output_type": "execute_result"
    }
   ],
   "source": [
    "train_data.describe()"
   ]
  },
  {
   "cell_type": "code",
   "execution_count": 6,
   "id": "6cb19217",
   "metadata": {
    "execution": {
     "iopub.execute_input": "2021-08-24T07:22:06.459871Z",
     "iopub.status.busy": "2021-08-24T07:22:06.459064Z",
     "iopub.status.idle": "2021-08-24T07:22:06.484230Z",
     "shell.execute_reply": "2021-08-24T07:22:06.483809Z",
     "shell.execute_reply.started": "2021-08-24T07:18:44.301684Z"
    },
    "papermill": {
     "duration": 0.0606,
     "end_time": "2021-08-24T07:22:06.484347",
     "exception": false,
     "start_time": "2021-08-24T07:22:06.423747",
     "status": "completed"
    },
    "tags": []
   },
   "outputs": [
    {
     "data": {
      "text/html": [
       "<div>\n",
       "<style scoped>\n",
       "    .dataframe tbody tr th:only-of-type {\n",
       "        vertical-align: middle;\n",
       "    }\n",
       "\n",
       "    .dataframe tbody tr th {\n",
       "        vertical-align: top;\n",
       "    }\n",
       "\n",
       "    .dataframe thead th {\n",
       "        text-align: right;\n",
       "    }\n",
       "</style>\n",
       "<table border=\"1\" class=\"dataframe\">\n",
       "  <thead>\n",
       "    <tr style=\"text-align: right;\">\n",
       "      <th></th>\n",
       "      <th>% of Missing Values</th>\n",
       "    </tr>\n",
       "  </thead>\n",
       "  <tbody>\n",
       "    <tr>\n",
       "      <th>PoolQC</th>\n",
       "      <td>99.5</td>\n",
       "    </tr>\n",
       "    <tr>\n",
       "      <th>MiscFeature</th>\n",
       "      <td>96.3</td>\n",
       "    </tr>\n",
       "    <tr>\n",
       "      <th>Alley</th>\n",
       "      <td>93.8</td>\n",
       "    </tr>\n",
       "    <tr>\n",
       "      <th>Fence</th>\n",
       "      <td>80.8</td>\n",
       "    </tr>\n",
       "    <tr>\n",
       "      <th>FireplaceQu</th>\n",
       "      <td>47.3</td>\n",
       "    </tr>\n",
       "    <tr>\n",
       "      <th>LotFrontage</th>\n",
       "      <td>17.7</td>\n",
       "    </tr>\n",
       "    <tr>\n",
       "      <th>GarageType</th>\n",
       "      <td>5.5</td>\n",
       "    </tr>\n",
       "    <tr>\n",
       "      <th>GarageYrBlt</th>\n",
       "      <td>5.5</td>\n",
       "    </tr>\n",
       "    <tr>\n",
       "      <th>GarageFinish</th>\n",
       "      <td>5.5</td>\n",
       "    </tr>\n",
       "    <tr>\n",
       "      <th>GarageQual</th>\n",
       "      <td>5.5</td>\n",
       "    </tr>\n",
       "    <tr>\n",
       "      <th>GarageCond</th>\n",
       "      <td>5.5</td>\n",
       "    </tr>\n",
       "    <tr>\n",
       "      <th>BsmtExposure</th>\n",
       "      <td>2.6</td>\n",
       "    </tr>\n",
       "    <tr>\n",
       "      <th>BsmtFinType2</th>\n",
       "      <td>2.6</td>\n",
       "    </tr>\n",
       "    <tr>\n",
       "      <th>BsmtFinType1</th>\n",
       "      <td>2.5</td>\n",
       "    </tr>\n",
       "    <tr>\n",
       "      <th>BsmtCond</th>\n",
       "      <td>2.5</td>\n",
       "    </tr>\n",
       "    <tr>\n",
       "      <th>BsmtQual</th>\n",
       "      <td>2.5</td>\n",
       "    </tr>\n",
       "    <tr>\n",
       "      <th>MasVnrArea</th>\n",
       "      <td>0.5</td>\n",
       "    </tr>\n",
       "    <tr>\n",
       "      <th>MasVnrType</th>\n",
       "      <td>0.5</td>\n",
       "    </tr>\n",
       "    <tr>\n",
       "      <th>Electrical</th>\n",
       "      <td>0.1</td>\n",
       "    </tr>\n",
       "  </tbody>\n",
       "</table>\n",
       "</div>"
      ],
      "text/plain": [
       "              % of Missing Values\n",
       "PoolQC                       99.5\n",
       "MiscFeature                  96.3\n",
       "Alley                        93.8\n",
       "Fence                        80.8\n",
       "FireplaceQu                  47.3\n",
       "LotFrontage                  17.7\n",
       "GarageType                    5.5\n",
       "GarageYrBlt                   5.5\n",
       "GarageFinish                  5.5\n",
       "GarageQual                    5.5\n",
       "GarageCond                    5.5\n",
       "BsmtExposure                  2.6\n",
       "BsmtFinType2                  2.6\n",
       "BsmtFinType1                  2.5\n",
       "BsmtCond                      2.5\n",
       "BsmtQual                      2.5\n",
       "MasVnrArea                    0.5\n",
       "MasVnrType                    0.5\n",
       "Electrical                    0.1"
      ]
     },
     "execution_count": 6,
     "metadata": {},
     "output_type": "execute_result"
    }
   ],
   "source": [
    "#Checking columns with missing data\n",
    "Miss_Percent=100*(train_data.isnull().sum()/len(train_data))\n",
    "\n",
    "#Sorting the data columns by their percentage in descending order\n",
    "Miss_Percent=Miss_Percent[Miss_Percent>0].sort_values(ascending=False).round(1)\n",
    "\n",
    "#Creating a dataframe to show percentage of missing data and its respective data column in table\n",
    "DataFrame=pd.DataFrame(Miss_Percent)\n",
    "miss_percent_table=DataFrame.rename(columns={0:'% of Missing Values'})\n",
    "MissPercent=miss_percent_table\n",
    "\n",
    "#Displaying Missing Value table\n",
    "MissPercent"
   ]
  },
  {
   "cell_type": "code",
   "execution_count": 7,
   "id": "87c2cb68",
   "metadata": {
    "execution": {
     "iopub.execute_input": "2021-08-24T07:22:06.539406Z",
     "iopub.status.busy": "2021-08-24T07:22:06.538710Z",
     "iopub.status.idle": "2021-08-24T07:22:06.542099Z",
     "shell.execute_reply": "2021-08-24T07:22:06.541699Z",
     "shell.execute_reply.started": "2021-08-24T07:18:44.338596Z"
    },
    "papermill": {
     "duration": 0.032975,
     "end_time": "2021-08-24T07:22:06.542209",
     "exception": false,
     "start_time": "2021-08-24T07:22:06.509234",
     "status": "completed"
    },
    "tags": []
   },
   "outputs": [],
   "source": [
    "##dropping some features \n",
    "train_data=train_data.drop(['Id','Alley','PoolQC','MiscFeature','Fence'],axis=1)"
   ]
  },
  {
   "cell_type": "code",
   "execution_count": 8,
   "id": "3278820d",
   "metadata": {
    "execution": {
     "iopub.execute_input": "2021-08-24T07:22:06.633587Z",
     "iopub.status.busy": "2021-08-24T07:22:06.632112Z",
     "iopub.status.idle": "2021-08-24T07:22:06.643270Z",
     "shell.execute_reply": "2021-08-24T07:22:06.642724Z",
     "shell.execute_reply.started": "2021-08-24T07:18:44.347536Z"
    },
    "papermill": {
     "duration": 0.060821,
     "end_time": "2021-08-24T07:22:06.643399",
     "exception": false,
     "start_time": "2021-08-24T07:22:06.582578",
     "status": "completed"
    },
    "tags": []
   },
   "outputs": [
    {
     "data": {
      "text/plain": [
       "array([ 65.,  80.,  68.,  60.,  84.,  85.,  75.,  nan,  51.,  50.,  70.,\n",
       "        91.,  72.,  66., 101.,  57.,  44., 110.,  98.,  47., 108., 112.,\n",
       "        74., 115.,  61.,  48.,  33.,  52., 100.,  24.,  89.,  63.,  76.,\n",
       "        81.,  95.,  69.,  21.,  32.,  78., 121., 122.,  40., 105.,  73.,\n",
       "        77.,  64.,  94.,  34.,  90.,  55.,  88.,  82.,  71., 120., 107.,\n",
       "        92., 134.,  62.,  86., 141.,  97.,  54.,  41.,  79., 174.,  99.,\n",
       "        67.,  83.,  43., 103.,  93.,  30., 129., 140.,  35.,  37., 118.,\n",
       "        87., 116., 150., 111.,  49.,  96.,  59.,  36.,  56., 102.,  58.,\n",
       "        38., 109., 130.,  53., 137.,  45., 106., 104.,  42.,  39., 144.,\n",
       "       114., 128., 149., 313., 168., 182., 138., 160., 152., 124., 153.,\n",
       "        46.])"
      ]
     },
     "execution_count": 8,
     "metadata": {},
     "output_type": "execute_result"
    }
   ],
   "source": [
    "train_data['FireplaceQu'].unique()\n",
    "#Replacing Null value in FirePlaceQu with None\n",
    "train_data['FireplaceQu']=train_data['FireplaceQu'].fillna('None')\n",
    "#Checking LotFrontage column\n",
    "train_data['LotFrontage'].unique()"
   ]
  },
  {
   "cell_type": "code",
   "execution_count": 9,
   "id": "22585383",
   "metadata": {
    "execution": {
     "iopub.execute_input": "2021-08-24T07:22:06.700741Z",
     "iopub.status.busy": "2021-08-24T07:22:06.700004Z",
     "iopub.status.idle": "2021-08-24T07:22:06.703097Z",
     "shell.execute_reply": "2021-08-24T07:22:06.703544Z",
     "shell.execute_reply.started": "2021-08-24T07:18:44.367207Z"
    },
    "papermill": {
     "duration": 0.035011,
     "end_time": "2021-08-24T07:22:06.703679",
     "exception": false,
     "start_time": "2021-08-24T07:22:06.668668",
     "status": "completed"
    },
    "tags": []
   },
   "outputs": [
    {
     "data": {
      "text/plain": [
       "array(['TA', 'Fa', nan, 'Gd', 'Po', 'Ex'], dtype=object)"
      ]
     },
     "execution_count": 9,
     "metadata": {},
     "output_type": "execute_result"
    }
   ],
   "source": [
    "train_data['LotFrontage']=train_data['LotFrontage'].fillna(train_data['LotFrontage'].median())\n",
    "#Checking GarageCond column\n",
    "train_data['GarageCond'].unique()"
   ]
  },
  {
   "cell_type": "code",
   "execution_count": 10,
   "id": "da6f6303",
   "metadata": {
    "execution": {
     "iopub.execute_input": "2021-08-24T07:22:06.760825Z",
     "iopub.status.busy": "2021-08-24T07:22:06.760102Z",
     "iopub.status.idle": "2021-08-24T07:22:06.763663Z",
     "shell.execute_reply": "2021-08-24T07:22:06.763193Z",
     "shell.execute_reply.started": "2021-08-24T07:18:44.377899Z"
    },
    "papermill": {
     "duration": 0.034744,
     "end_time": "2021-08-24T07:22:06.763772",
     "exception": false,
     "start_time": "2021-08-24T07:22:06.729028",
     "status": "completed"
    },
    "tags": []
   },
   "outputs": [
    {
     "data": {
      "text/plain": [
       "array(['TA', 'Fa', 'Gd', nan, 'Ex', 'Po'], dtype=object)"
      ]
     },
     "execution_count": 10,
     "metadata": {},
     "output_type": "execute_result"
    }
   ],
   "source": [
    "train_data['GarageCond']=train_data['GarageCond'].fillna('None')\n",
    "train_data['GarageQual'].unique()"
   ]
  },
  {
   "cell_type": "code",
   "execution_count": 11,
   "id": "559e9e2d",
   "metadata": {
    "execution": {
     "iopub.execute_input": "2021-08-24T07:22:06.824887Z",
     "iopub.status.busy": "2021-08-24T07:22:06.824159Z",
     "iopub.status.idle": "2021-08-24T07:22:06.827256Z",
     "shell.execute_reply": "2021-08-24T07:22:06.827696Z",
     "shell.execute_reply.started": "2021-08-24T07:18:44.388808Z"
    },
    "papermill": {
     "duration": 0.03545,
     "end_time": "2021-08-24T07:22:06.827823",
     "exception": false,
     "start_time": "2021-08-24T07:22:06.792373",
     "status": "completed"
    },
    "tags": []
   },
   "outputs": [
    {
     "data": {
      "text/plain": [
       "array(['RFn', 'Unf', 'Fin', nan], dtype=object)"
      ]
     },
     "execution_count": 11,
     "metadata": {},
     "output_type": "execute_result"
    }
   ],
   "source": [
    "#Replacing the null value with none in GarageQual\n",
    "train_data['GarageQual']=train_data['GarageQual'].fillna('None')\n",
    "#Checking GarageFinish Column\n",
    "train_data['GarageFinish'].unique()"
   ]
  },
  {
   "cell_type": "code",
   "execution_count": 12,
   "id": "e646e202",
   "metadata": {
    "execution": {
     "iopub.execute_input": "2021-08-24T07:22:06.886739Z",
     "iopub.status.busy": "2021-08-24T07:22:06.885842Z",
     "iopub.status.idle": "2021-08-24T07:22:06.889720Z",
     "shell.execute_reply": "2021-08-24T07:22:06.889297Z",
     "shell.execute_reply.started": "2021-08-24T07:18:44.403416Z"
    },
    "papermill": {
     "duration": 0.036106,
     "end_time": "2021-08-24T07:22:06.889829",
     "exception": false,
     "start_time": "2021-08-24T07:22:06.853723",
     "status": "completed"
    },
    "tags": []
   },
   "outputs": [
    {
     "data": {
      "text/plain": [
       "array(['Attchd', 'Detchd', 'BuiltIn', 'CarPort', nan, 'Basment', '2Types'],\n",
       "      dtype=object)"
      ]
     },
     "execution_count": 12,
     "metadata": {},
     "output_type": "execute_result"
    }
   ],
   "source": [
    "train_data['GarageFinish']=train_data['GarageFinish'].fillna('None')\n",
    "#Replacing the Null Value with \n",
    "train_data['GarageYrBlt']=train_data['GarageYrBlt'].fillna(train_data['GarageYrBlt'].median())\n",
    "train_data['GarageType'].unique()"
   ]
  },
  {
   "cell_type": "code",
   "execution_count": 13,
   "id": "7c0132cd",
   "metadata": {
    "execution": {
     "iopub.execute_input": "2021-08-24T07:22:06.946377Z",
     "iopub.status.busy": "2021-08-24T07:22:06.945896Z",
     "iopub.status.idle": "2021-08-24T07:22:06.949099Z",
     "shell.execute_reply": "2021-08-24T07:22:06.949519Z",
     "shell.execute_reply.started": "2021-08-24T07:18:44.414599Z"
    },
    "papermill": {
     "duration": 0.033262,
     "end_time": "2021-08-24T07:22:06.949642",
     "exception": false,
     "start_time": "2021-08-24T07:22:06.916380",
     "status": "completed"
    },
    "tags": []
   },
   "outputs": [],
   "source": [
    "#Replacing Null Value with None\n",
    "train_data['GarageType']=train_data['GarageType'].fillna('None')"
   ]
  },
  {
   "cell_type": "code",
   "execution_count": 14,
   "id": "9fb89e70",
   "metadata": {
    "execution": {
     "iopub.execute_input": "2021-08-24T07:22:07.007905Z",
     "iopub.status.busy": "2021-08-24T07:22:07.007226Z",
     "iopub.status.idle": "2021-08-24T07:22:07.010713Z",
     "shell.execute_reply": "2021-08-24T07:22:07.010263Z",
     "shell.execute_reply.started": "2021-08-24T07:18:44.424534Z"
    },
    "papermill": {
     "duration": 0.034731,
     "end_time": "2021-08-24T07:22:07.010814",
     "exception": false,
     "start_time": "2021-08-24T07:22:06.976083",
     "status": "completed"
    },
    "tags": []
   },
   "outputs": [
    {
     "data": {
      "text/plain": [
       "array(['GLQ', 'ALQ', 'Unf', 'Rec', 'BLQ', nan, 'LwQ'], dtype=object)"
      ]
     },
     "execution_count": 14,
     "metadata": {},
     "output_type": "execute_result"
    }
   ],
   "source": [
    "train_data['BsmtFinType2']=train_data['BsmtFinType2'].fillna('None')\n",
    "train_data['BsmtFinType1'].unique()"
   ]
  },
  {
   "cell_type": "code",
   "execution_count": 15,
   "id": "a419b739",
   "metadata": {
    "execution": {
     "iopub.execute_input": "2021-08-24T07:22:07.068252Z",
     "iopub.status.busy": "2021-08-24T07:22:07.067320Z",
     "iopub.status.idle": "2021-08-24T07:22:07.070222Z",
     "shell.execute_reply": "2021-08-24T07:22:07.069815Z",
     "shell.execute_reply.started": "2021-08-24T07:18:44.444835Z"
    },
    "papermill": {
     "duration": 0.033358,
     "end_time": "2021-08-24T07:22:07.070324",
     "exception": false,
     "start_time": "2021-08-24T07:22:07.036966",
     "status": "completed"
    },
    "tags": []
   },
   "outputs": [],
   "source": [
    "train_data['BsmtFinType1']=train_data['BsmtFinType1'].fillna(\"None\")"
   ]
  },
  {
   "cell_type": "code",
   "execution_count": 16,
   "id": "a6b1bf66",
   "metadata": {
    "execution": {
     "iopub.execute_input": "2021-08-24T07:22:07.130992Z",
     "iopub.status.busy": "2021-08-24T07:22:07.130232Z",
     "iopub.status.idle": "2021-08-24T07:22:07.133831Z",
     "shell.execute_reply": "2021-08-24T07:22:07.133377Z",
     "shell.execute_reply.started": "2021-08-24T07:18:44.452357Z"
    },
    "papermill": {
     "duration": 0.037059,
     "end_time": "2021-08-24T07:22:07.133958",
     "exception": false,
     "start_time": "2021-08-24T07:22:07.096899",
     "status": "completed"
    },
    "tags": []
   },
   "outputs": [
    {
     "data": {
      "text/plain": [
       "array(['TA', 'Gd', nan, 'Fa', 'Po'], dtype=object)"
      ]
     },
     "execution_count": 16,
     "metadata": {},
     "output_type": "execute_result"
    }
   ],
   "source": [
    "#Replacing null value with None\n",
    "train_data['BsmtExposure']=train_data['BsmtExposure'].fillna('None')\n",
    "train_data['BsmtCond'].unique()"
   ]
  },
  {
   "cell_type": "code",
   "execution_count": 17,
   "id": "1c01ad6b",
   "metadata": {
    "execution": {
     "iopub.execute_input": "2021-08-24T07:22:07.194567Z",
     "iopub.status.busy": "2021-08-24T07:22:07.193745Z",
     "iopub.status.idle": "2021-08-24T07:22:07.196515Z",
     "shell.execute_reply": "2021-08-24T07:22:07.196088Z",
     "shell.execute_reply.started": "2021-08-24T07:18:44.464708Z"
    },
    "papermill": {
     "duration": 0.035715,
     "end_time": "2021-08-24T07:22:07.196632",
     "exception": false,
     "start_time": "2021-08-24T07:22:07.160917",
     "status": "completed"
    },
    "tags": []
   },
   "outputs": [],
   "source": [
    "train_data['BsmtCond']=train_data['BsmtCond'].fillna('None')\n",
    "#Replacing Null value with None\n",
    "train_data['BsmtQual']=train_data['BsmtQual'].fillna('None')"
   ]
  },
  {
   "cell_type": "code",
   "execution_count": 18,
   "id": "c270d795",
   "metadata": {
    "execution": {
     "iopub.execute_input": "2021-08-24T07:22:07.259095Z",
     "iopub.status.busy": "2021-08-24T07:22:07.258242Z",
     "iopub.status.idle": "2021-08-24T07:22:07.262041Z",
     "shell.execute_reply": "2021-08-24T07:22:07.261638Z",
     "shell.execute_reply.started": "2021-08-24T07:18:44.473458Z"
    },
    "papermill": {
     "duration": 0.03861,
     "end_time": "2021-08-24T07:22:07.262154",
     "exception": false,
     "start_time": "2021-08-24T07:22:07.223544",
     "status": "completed"
    },
    "tags": []
   },
   "outputs": [
    {
     "data": {
      "text/plain": [
       "array([1.960e+02, 0.000e+00, 1.620e+02, 3.500e+02, 1.860e+02, 2.400e+02,\n",
       "       2.860e+02, 3.060e+02, 2.120e+02, 1.800e+02, 3.800e+02, 2.810e+02,\n",
       "       6.400e+02, 2.000e+02, 2.460e+02, 1.320e+02, 6.500e+02, 1.010e+02,\n",
       "       4.120e+02, 2.720e+02, 4.560e+02, 1.031e+03, 1.780e+02, 5.730e+02,\n",
       "       3.440e+02, 2.870e+02, 1.670e+02, 1.115e+03, 4.000e+01, 1.040e+02,\n",
       "       5.760e+02, 4.430e+02, 4.680e+02, 6.600e+01, 2.200e+01, 2.840e+02,\n",
       "       7.600e+01, 2.030e+02, 6.800e+01, 1.830e+02, 4.800e+01, 2.800e+01,\n",
       "       3.360e+02, 6.000e+02, 7.680e+02, 4.800e+02, 2.200e+02, 1.840e+02,\n",
       "       1.129e+03, 1.160e+02, 1.350e+02, 2.660e+02, 8.500e+01, 3.090e+02,\n",
       "       1.360e+02, 2.880e+02, 7.000e+01, 3.200e+02, 5.000e+01, 1.200e+02,\n",
       "       4.360e+02, 2.520e+02, 8.400e+01, 6.640e+02, 2.260e+02, 3.000e+02,\n",
       "       6.530e+02, 1.120e+02, 4.910e+02, 2.680e+02, 7.480e+02, 9.800e+01,\n",
       "       2.750e+02, 1.380e+02, 2.050e+02, 2.620e+02, 1.280e+02, 2.600e+02,\n",
       "       1.530e+02, 6.400e+01, 3.120e+02, 1.600e+01, 9.220e+02, 1.420e+02,\n",
       "       2.900e+02, 1.270e+02, 5.060e+02, 2.970e+02,       nan, 6.040e+02,\n",
       "       2.540e+02, 3.600e+01, 1.020e+02, 4.720e+02, 4.810e+02, 1.080e+02,\n",
       "       3.020e+02, 1.720e+02, 3.990e+02, 2.700e+02, 4.600e+01, 2.100e+02,\n",
       "       1.740e+02, 3.480e+02, 3.150e+02, 2.990e+02, 3.400e+02, 1.660e+02,\n",
       "       7.200e+01, 3.100e+01, 3.400e+01, 2.380e+02, 1.600e+03, 3.650e+02,\n",
       "       5.600e+01, 1.500e+02, 2.780e+02, 2.560e+02, 2.250e+02, 3.700e+02,\n",
       "       3.880e+02, 1.750e+02, 2.960e+02, 1.460e+02, 1.130e+02, 1.760e+02,\n",
       "       6.160e+02, 3.000e+01, 1.060e+02, 8.700e+02, 3.620e+02, 5.300e+02,\n",
       "       5.000e+02, 5.100e+02, 2.470e+02, 3.050e+02, 2.550e+02, 1.250e+02,\n",
       "       1.000e+02, 4.320e+02, 1.260e+02, 4.730e+02, 7.400e+01, 1.450e+02,\n",
       "       2.320e+02, 3.760e+02, 4.200e+01, 1.610e+02, 1.100e+02, 1.800e+01,\n",
       "       2.240e+02, 2.480e+02, 8.000e+01, 3.040e+02, 2.150e+02, 7.720e+02,\n",
       "       4.350e+02, 3.780e+02, 5.620e+02, 1.680e+02, 8.900e+01, 2.850e+02,\n",
       "       3.600e+02, 9.400e+01, 3.330e+02, 9.210e+02, 7.620e+02, 5.940e+02,\n",
       "       2.190e+02, 1.880e+02, 4.790e+02, 5.840e+02, 1.820e+02, 2.500e+02,\n",
       "       2.920e+02, 2.450e+02, 2.070e+02, 8.200e+01, 9.700e+01, 3.350e+02,\n",
       "       2.080e+02, 4.200e+02, 1.700e+02, 4.590e+02, 2.800e+02, 9.900e+01,\n",
       "       1.920e+02, 2.040e+02, 2.330e+02, 1.560e+02, 4.520e+02, 5.130e+02,\n",
       "       2.610e+02, 1.640e+02, 2.590e+02, 2.090e+02, 2.630e+02, 2.160e+02,\n",
       "       3.510e+02, 6.600e+02, 3.810e+02, 5.400e+01, 5.280e+02, 2.580e+02,\n",
       "       4.640e+02, 5.700e+01, 1.470e+02, 1.170e+03, 2.930e+02, 6.300e+02,\n",
       "       4.660e+02, 1.090e+02, 4.100e+01, 1.600e+02, 2.890e+02, 6.510e+02,\n",
       "       1.690e+02, 9.500e+01, 4.420e+02, 2.020e+02, 3.380e+02, 8.940e+02,\n",
       "       3.280e+02, 6.730e+02, 6.030e+02, 1.000e+00, 3.750e+02, 9.000e+01,\n",
       "       3.800e+01, 1.570e+02, 1.100e+01, 1.400e+02, 1.300e+02, 1.480e+02,\n",
       "       8.600e+02, 4.240e+02, 1.047e+03, 2.430e+02, 8.160e+02, 3.870e+02,\n",
       "       2.230e+02, 1.580e+02, 1.370e+02, 1.150e+02, 1.890e+02, 2.740e+02,\n",
       "       1.170e+02, 6.000e+01, 1.220e+02, 9.200e+01, 4.150e+02, 7.600e+02,\n",
       "       2.700e+01, 7.500e+01, 3.610e+02, 1.050e+02, 3.420e+02, 2.980e+02,\n",
       "       5.410e+02, 2.360e+02, 1.440e+02, 4.230e+02, 4.400e+01, 1.510e+02,\n",
       "       9.750e+02, 4.500e+02, 2.300e+02, 5.710e+02, 2.400e+01, 5.300e+01,\n",
       "       2.060e+02, 1.400e+01, 3.240e+02, 2.950e+02, 3.960e+02, 6.700e+01,\n",
       "       1.540e+02, 4.250e+02, 4.500e+01, 1.378e+03, 3.370e+02, 1.490e+02,\n",
       "       1.430e+02, 5.100e+01, 1.710e+02, 2.340e+02, 6.300e+01, 7.660e+02,\n",
       "       3.200e+01, 8.100e+01, 1.630e+02, 5.540e+02, 2.180e+02, 6.320e+02,\n",
       "       1.140e+02, 5.670e+02, 3.590e+02, 4.510e+02, 6.210e+02, 7.880e+02,\n",
       "       8.600e+01, 7.960e+02, 3.910e+02, 2.280e+02, 8.800e+01, 1.650e+02,\n",
       "       4.280e+02, 4.100e+02, 5.640e+02, 3.680e+02, 3.180e+02, 5.790e+02,\n",
       "       6.500e+01, 7.050e+02, 4.080e+02, 2.440e+02, 1.230e+02, 3.660e+02,\n",
       "       7.310e+02, 4.480e+02, 2.940e+02, 3.100e+02, 2.370e+02, 4.260e+02,\n",
       "       9.600e+01, 4.380e+02, 1.940e+02, 1.190e+02])"
      ]
     },
     "execution_count": 18,
     "metadata": {},
     "output_type": "execute_result"
    }
   ],
   "source": [
    "#Checking MasVnrArea column\n",
    "train_data['MasVnrArea'].unique()"
   ]
  },
  {
   "cell_type": "code",
   "execution_count": 19,
   "id": "443b9b61",
   "metadata": {
    "execution": {
     "iopub.execute_input": "2021-08-24T07:22:07.321647Z",
     "iopub.status.busy": "2021-08-24T07:22:07.320780Z",
     "iopub.status.idle": "2021-08-24T07:22:07.325039Z",
     "shell.execute_reply": "2021-08-24T07:22:07.324639Z",
     "shell.execute_reply.started": "2021-08-24T07:18:44.491806Z"
    },
    "papermill": {
     "duration": 0.035562,
     "end_time": "2021-08-24T07:22:07.325149",
     "exception": false,
     "start_time": "2021-08-24T07:22:07.289587",
     "status": "completed"
    },
    "tags": []
   },
   "outputs": [],
   "source": [
    "#Repalcing Null value with Zero(0)\n",
    "train_data['MasVnrArea']=train_data['MasVnrArea'].fillna(0)\n",
    "#Replacing Null value with Others as there already is a value called None\n",
    "train_data['MasVnrType']=train_data['MasVnrArea'].fillna(\"Others\")"
   ]
  },
  {
   "cell_type": "code",
   "execution_count": 20,
   "id": "d4189d21",
   "metadata": {
    "execution": {
     "iopub.execute_input": "2021-08-24T07:22:07.384612Z",
     "iopub.status.busy": "2021-08-24T07:22:07.383869Z",
     "iopub.status.idle": "2021-08-24T07:22:07.386630Z",
     "shell.execute_reply": "2021-08-24T07:22:07.386187Z",
     "shell.execute_reply.started": "2021-08-24T07:18:44.500657Z"
    },
    "papermill": {
     "duration": 0.034265,
     "end_time": "2021-08-24T07:22:07.386738",
     "exception": false,
     "start_time": "2021-08-24T07:22:07.352473",
     "status": "completed"
    },
    "tags": []
   },
   "outputs": [],
   "source": [
    "#Replacing the Null value with None\n",
    "train_data['Electrical']=train_data['Electrical'].fillna('None')"
   ]
  },
  {
   "cell_type": "markdown",
   "id": "c21c6fef",
   "metadata": {
    "papermill": {
     "duration": 0.026805,
     "end_time": "2021-08-24T07:22:07.440588",
     "exception": false,
     "start_time": "2021-08-24T07:22:07.413783",
     "status": "completed"
    },
    "tags": []
   },
   "source": [
    "**finding corelation**"
   ]
  },
  {
   "cell_type": "code",
   "execution_count": 21,
   "id": "1ba995eb",
   "metadata": {
    "execution": {
     "iopub.execute_input": "2021-08-24T07:22:07.500367Z",
     "iopub.status.busy": "2021-08-24T07:22:07.499823Z",
     "iopub.status.idle": "2021-08-24T07:22:09.115653Z",
     "shell.execute_reply": "2021-08-24T07:22:09.115217Z",
     "shell.execute_reply.started": "2021-08-24T07:18:44.508070Z"
    },
    "papermill": {
     "duration": 1.647908,
     "end_time": "2021-08-24T07:22:09.115778",
     "exception": false,
     "start_time": "2021-08-24T07:22:07.467870",
     "status": "completed"
    },
    "tags": []
   },
   "outputs": [
    {
     "data": {
      "image/png": "[encoded data removed]",
      "text/plain": [
       "<Figure size 864x864 with 2 Axes>"
      ]
     },
     "metadata": {
      "needs_background": "light"
     },
     "output_type": "display_data"
    }
   ],
   "source": [
    "#Calculating Correlation \n",
    "correlation=train_data.corr()\n",
    "Positive_Related=correlation.index[abs(correlation[\"SalePrice\"])>0.4]\n",
    "\n",
    "#Plotting the Correlation in HeatMap for the data columns which has correlation value more than 0.4\n",
    "plt.figure(figsize=(12,12))\n",
    "Corr_Heatmap=sns.heatmap(train_data[Positive_Related].corr(),annot=True,cmap=\"YlGnBu\")"
   ]
  },
  {
   "cell_type": "markdown",
   "id": "bf660ecf",
   "metadata": {
    "papermill": {
     "duration": 0.030298,
     "end_time": "2021-08-24T07:22:09.178386",
     "exception": false,
     "start_time": "2021-08-24T07:22:09.148088",
     "status": "completed"
    },
    "tags": []
   },
   "source": [
    "**checking for outliers**"
   ]
  },
  {
   "cell_type": "markdown",
   "id": "641460c6",
   "metadata": {
    "papermill": {
     "duration": 0.030198,
     "end_time": "2021-08-24T07:22:09.239112",
     "exception": false,
     "start_time": "2021-08-24T07:22:09.208914",
     "status": "completed"
    },
    "tags": []
   },
   "source": []
  },
  {
   "cell_type": "code",
   "execution_count": 22,
   "id": "64dcbc97",
   "metadata": {
    "execution": {
     "iopub.execute_input": "2021-08-24T07:22:09.306177Z",
     "iopub.status.busy": "2021-08-24T07:22:09.305344Z",
     "iopub.status.idle": "2021-08-24T07:22:09.626973Z",
     "shell.execute_reply": "2021-08-24T07:22:09.627402Z",
     "shell.execute_reply.started": "2021-08-24T07:18:46.035167Z"
    },
    "papermill": {
     "duration": 0.358023,
     "end_time": "2021-08-24T07:22:09.627570",
     "exception": false,
     "start_time": "2021-08-24T07:22:09.269547",
     "status": "completed"
    },
    "tags": []
   },
   "outputs": [
    {
     "data": {
      "text/plain": [
       "<AxesSubplot:xlabel='OverallQual', ylabel='SalePrice'>"
      ]
     },
     "execution_count": 22,
     "metadata": {},
     "output_type": "execute_result"
    },
    {
     "data": {
      "image/png": "[encoded data removed]",
      "text/plain": [
       "<Figure size 720x576 with 1 Axes>"
      ]
     },
     "metadata": {},
     "output_type": "display_data"
    }
   ],
   "source": [
    "#BoxPlot for OverallQual Column\n",
    "sns.set(rc={'figure.figsize':(10,8)})\n",
    "sns.boxplot(x='OverallQual',y='SalePrice',data=train_data)"
   ]
  },
  {
   "cell_type": "code",
   "execution_count": 23,
   "id": "464452f0",
   "metadata": {
    "execution": {
     "iopub.execute_input": "2021-08-24T07:22:09.699036Z",
     "iopub.status.busy": "2021-08-24T07:22:09.698200Z",
     "iopub.status.idle": "2021-08-24T07:22:09.701918Z",
     "shell.execute_reply": "2021-08-24T07:22:09.701514Z",
     "shell.execute_reply.started": "2021-08-24T07:18:46.377848Z"
    },
    "papermill": {
     "duration": 0.042456,
     "end_time": "2021-08-24T07:22:09.702045",
     "exception": false,
     "start_time": "2021-08-24T07:22:09.659589",
     "status": "completed"
    },
    "tags": []
   },
   "outputs": [],
   "source": [
    "#Deleting Outliers\n",
    "train_data=train_data.drop(train_data[(train_data['GrLivArea']>4000)&(train_data['SalePrice']>300000)].index)"
   ]
  },
  {
   "cell_type": "markdown",
   "id": "276342e0",
   "metadata": {
    "papermill": {
     "duration": 0.031683,
     "end_time": "2021-08-24T07:22:09.766245",
     "exception": false,
     "start_time": "2021-08-24T07:22:09.734562",
     "status": "completed"
    },
    "tags": []
   },
   "source": [
    "**Preparing For Modelling**"
   ]
  },
  {
   "cell_type": "code",
   "execution_count": 24,
   "id": "49513eb4",
   "metadata": {
    "execution": {
     "iopub.execute_input": "2021-08-24T07:22:09.835644Z",
     "iopub.status.busy": "2021-08-24T07:22:09.834788Z",
     "iopub.status.idle": "2021-08-24T07:22:09.836942Z",
     "shell.execute_reply": "2021-08-24T07:22:09.837300Z",
     "shell.execute_reply.started": "2021-08-24T07:18:46.388101Z"
    },
    "papermill": {
     "duration": 0.039824,
     "end_time": "2021-08-24T07:22:09.837452",
     "exception": false,
     "start_time": "2021-08-24T07:22:09.797628",
     "status": "completed"
    },
    "tags": []
   },
   "outputs": [],
   "source": [
    "\n",
    "test_id=test_data['Id']\n",
    "test_data=test_data.drop(['Id','Alley','PoolQC','MiscFeature','Fence'],axis=1)"
   ]
  },
  {
   "cell_type": "code",
   "execution_count": 25,
   "id": "fac55a8b",
   "metadata": {
    "execution": {
     "iopub.execute_input": "2021-08-24T07:22:09.905984Z",
     "iopub.status.busy": "2021-08-24T07:22:09.905183Z",
     "iopub.status.idle": "2021-08-24T07:22:09.953326Z",
     "shell.execute_reply": "2021-08-24T07:22:09.952881Z",
     "shell.execute_reply.started": "2021-08-24T07:19:12.280182Z"
    },
    "papermill": {
     "duration": 0.084538,
     "end_time": "2021-08-24T07:22:09.953469",
     "exception": false,
     "start_time": "2021-08-24T07:22:09.868931",
     "status": "completed"
    },
    "tags": []
   },
   "outputs": [],
   "source": [
    "#Converting String into Number\n",
    "new_train_data=train_data.apply(lambda x:pd.factorize(x)[0])\n",
    "test_data=test_data.apply(lambda x:pd.factorize(x)[0])"
   ]
  },
  {
   "cell_type": "code",
   "execution_count": 26,
   "id": "bedd3c05",
   "metadata": {
    "execution": {
     "iopub.execute_input": "2021-08-24T07:22:10.023883Z",
     "iopub.status.busy": "2021-08-24T07:22:10.023121Z",
     "iopub.status.idle": "2021-08-24T07:22:10.026642Z",
     "shell.execute_reply": "2021-08-24T07:22:10.026226Z",
     "shell.execute_reply.started": "2021-08-24T07:19:22.259260Z"
    },
    "papermill": {
     "duration": 0.041433,
     "end_time": "2021-08-24T07:22:10.026755",
     "exception": false,
     "start_time": "2021-08-24T07:22:09.985322",
     "status": "completed"
    },
    "tags": []
   },
   "outputs": [
    {
     "data": {
      "text/plain": [
       "((1458, 75), (1458,), (1459, 75))"
      ]
     },
     "execution_count": 26,
     "metadata": {},
     "output_type": "execute_result"
    }
   ],
   "source": [
    "X_train=new_train_data.drop('SalePrice',axis=1)\n",
    "Y_train=train_data['SalePrice']\n",
    "X_test=test_data\n",
    "X_train.shape, Y_train.shape, X_test.shape"
   ]
  },
  {
   "cell_type": "code",
   "execution_count": 27,
   "id": "e6d63045",
   "metadata": {
    "execution": {
     "iopub.execute_input": "2021-08-24T07:22:10.097767Z",
     "iopub.status.busy": "2021-08-24T07:22:10.096973Z",
     "iopub.status.idle": "2021-08-24T07:22:11.167686Z",
     "shell.execute_reply": "2021-08-24T07:22:11.167044Z",
     "shell.execute_reply.started": "2021-08-24T07:19:39.707043Z"
    },
    "papermill": {
     "duration": 1.109191,
     "end_time": "2021-08-24T07:22:11.167843",
     "exception": false,
     "start_time": "2021-08-24T07:22:10.058652",
     "status": "completed"
    },
    "tags": []
   },
   "outputs": [
    {
     "name": "stdout",
     "output_type": "stream",
     "text": [
      "0.9685198580243868\n"
     ]
    }
   ],
   "source": [
    "#Building and Training the Model and Displaying the Score of the Model\n",
    "model=RandomForestRegressor(n_estimators=50)\n",
    "model.fit(X_train,Y_train)\n",
    "print(model.score(X_train,Y_train))"
   ]
  },
  {
   "cell_type": "code",
   "execution_count": 28,
   "id": "72beebef",
   "metadata": {
    "execution": {
     "iopub.execute_input": "2021-08-24T07:22:11.239167Z",
     "iopub.status.busy": "2021-08-24T07:22:11.238334Z",
     "iopub.status.idle": "2021-08-24T07:22:11.253738Z",
     "shell.execute_reply": "2021-08-24T07:22:11.253307Z",
     "shell.execute_reply.started": "2021-08-24T07:19:54.338910Z"
    },
    "papermill": {
     "duration": 0.053132,
     "end_time": "2021-08-24T07:22:11.253856",
     "exception": false,
     "start_time": "2021-08-24T07:22:11.200724",
     "status": "completed"
    },
    "tags": []
   },
   "outputs": [],
   "source": [
    "#Making predictions on test set \n",
    "Y_predict=model.predict(X_test)"
   ]
  },
  {
   "cell_type": "code",
   "execution_count": 29,
   "id": "23939f5c",
   "metadata": {
    "execution": {
     "iopub.execute_input": "2021-08-24T07:22:11.326630Z",
     "iopub.status.busy": "2021-08-24T07:22:11.325996Z",
     "iopub.status.idle": "2021-08-24T07:22:11.329215Z",
     "shell.execute_reply": "2021-08-24T07:22:11.329721Z",
     "shell.execute_reply.started": "2021-08-24T07:20:08.976634Z"
    },
    "papermill": {
     "duration": 0.043871,
     "end_time": "2021-08-24T07:22:11.329861",
     "exception": false,
     "start_time": "2021-08-24T07:22:11.285990",
     "status": "completed"
    },
    "tags": []
   },
   "outputs": [
    {
     "name": "stdout",
     "output_type": "stream",
     "text": [
      "        Id  SalePrice\n",
      "0     1461  206961.74\n",
      "1     1462  200445.10\n",
      "2     1463  191682.16\n",
      "3     1464  213459.58\n",
      "4     1465  149030.10\n",
      "...    ...        ...\n",
      "1454  2915  187744.36\n",
      "1455  2916  220766.68\n",
      "1456  2917  254050.38\n",
      "1457  2918  152001.60\n",
      "1458  2919  150510.26\n",
      "\n",
      "[1459 rows x 2 columns]\n"
     ]
    }
   ],
   "source": [
    "#Creating Dataframe to store the Ids with Prediction\n",
    "output=pd.DataFrame({'Id':test_id,'SalePrice':Y_predict})\n",
    "print(output)"
   ]
  },
  {
   "cell_type": "code",
   "execution_count": 30,
   "id": "1b238b19",
   "metadata": {
    "execution": {
     "iopub.execute_input": "2021-08-24T07:22:11.399216Z",
     "iopub.status.busy": "2021-08-24T07:22:11.398542Z",
     "iopub.status.idle": "2021-08-24T07:22:11.409040Z",
     "shell.execute_reply": "2021-08-24T07:22:11.408629Z",
     "shell.execute_reply.started": "2021-08-24T07:21:26.992613Z"
    },
    "papermill": {
     "duration": 0.046596,
     "end_time": "2021-08-24T07:22:11.409152",
     "exception": false,
     "start_time": "2021-08-24T07:22:11.362556",
     "status": "completed"
    },
    "tags": []
   },
   "outputs": [
    {
     "name": "stdout",
     "output_type": "stream",
     "text": [
      "Completed\n"
     ]
    }
   ],
   "source": [
    "output.to_csv(\"House_Price_Prediction.csv\",index=False)\n",
    "print(\"Completed\")"
   ]
  },
  {
   "cell_type": "code",
   "execution_count": null,
   "id": "8a7aead8",
   "metadata": {
    "papermill": {
     "duration": 0.032521,
     "end_time": "2021-08-24T07:22:11.474523",
     "exception": false,
     "start_time": "2021-08-24T07:22:11.442002",
     "status": "completed"
    },
    "tags": []
   },
   "outputs": [],
   "source": []
  }
 ],
 "metadata": {
  "kernelspec": {
   "display_name": "Python 3",
   "language": "python",
   "name": "python3"
  },
  "language_info": {
   "codemirror_mode": {
    "name": "ipython",
    "version": 3
   },
   "file_extension": ".py",
   "mimetype": "text/x-python",
   "name": "python",
   "nbconvert_exporter": "python",
   "pygments_lexer": "ipython3",
   "version": "3.7.10"
  },
  "papermill": {
   "default_parameters": {},
   "duration": 15.683525,
   "end_time": "2021-08-24T07:22:13.080808",
   "environment_variables": {},
   "exception": null,
   "input_path": "__notebook__.ipynb",
   "output_path": "__notebook__.ipynb",
   "parameters": {},
   "start_time": "2021-08-24T07:21:57.397283",
   "version": "2.3.3"
  }
 },
 "nbformat": 4,
 "nbformat_minor": 5
}
