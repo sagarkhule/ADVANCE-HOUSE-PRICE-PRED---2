{
 "cells": [
  {
   "cell_type": "code",
   "execution_count": 1,
   "id": "74f721ef",
   "metadata": {
    "_cell_guid": "b1076dfc-b9ad-4769-8c92-a6c4dae69d19",
    "_uuid": "8f2839f25d086af736a60e9eeb907d3b93b6e0e5",
    "execution": {
     "iopub.execute_input": "2021-08-24T10:11:38.163159Z",
     "iopub.status.busy": "2021-08-24T10:11:38.162528Z",
     "iopub.status.idle": "2021-08-24T10:11:39.160450Z",
     "shell.execute_reply": "2021-08-24T10:11:39.159508Z",
     "shell.execute_reply.started": "2021-08-24T10:03:07.887837Z"
    },
    "papermill": {
     "duration": 1.018254,
     "end_time": "2021-08-24T10:11:39.160611",
     "exception": false,
     "start_time": "2021-08-24T10:11:38.142357",
     "status": "completed"
    },
    "tags": []
   },
   "outputs": [],
   "source": [
    "from sklearn.preprocessing import LabelEncoder\n",
    "from sklearn.preprocessing import MinMaxScaler\n",
    "from xgboost import XGBRegressor\n",
    "import matplotlib.pyplot as plt \n",
    "import seaborn as sns \n",
    "import pandas as pd \n",
    "import numpy as np "
   ]
  },
  {
   "cell_type": "code",
   "execution_count": 2,
   "id": "42eec857",
   "metadata": {
    "execution": {
     "iopub.execute_input": "2021-08-24T10:11:39.185459Z",
     "iopub.status.busy": "2021-08-24T10:11:39.184908Z",
     "iopub.status.idle": "2021-08-24T10:11:39.277092Z",
     "shell.execute_reply": "2021-08-24T10:11:39.276436Z",
     "shell.execute_reply.started": "2021-08-24T10:03:08.934773Z"
    },
    "papermill": {
     "duration": 0.106165,
     "end_time": "2021-08-24T10:11:39.277241",
     "exception": false,
     "start_time": "2021-08-24T10:11:39.171076",
     "status": "completed"
    },
    "tags": []
   },
   "outputs": [
    {
     "name": "stdout",
     "output_type": "stream",
     "text": [
      "Train dataframe contains 1460 rows and 81 columns.\n",
      "\n",
      "Test dataframe contains 1459 rows and 80 columns.\n",
      "\n",
      "The merged dataframe contains 2919 rows and 80 columns.\n"
     ]
    }
   ],
   "source": [
    "train_data = pd.read_csv('/kaggle/input/house-prices-advanced-regression-techniques/train.csv')\n",
    "test_data = pd.read_csv('/kaggle/input/house-prices-advanced-regression-techniques/test.csv')\n",
    "\n",
    "# Concatenate the train and test dataframes so the preprocessing is applied to both \n",
    "full_data = pd.concat([train_data,test_data]).reset_index(drop = True)\n",
    "\n",
    "sale_price = train_data['SalePrice'].reset_index(drop=True)\n",
    "# Remove the Sale Price dependent variable from the combined dataset \n",
    "del full_data['SalePrice']\n",
    "\n",
    "print(f'Train dataframe contains {train_data.shape[0]} rows and {train_data.shape[1]} columns.\\n')\n",
    "print(f'Test dataframe contains {test_data.shape[0]} rows and {test_data.shape[1]} columns.\\n')\n",
    "print(f'The merged dataframe contains {full_data.shape[0]} rows and {full_data.shape[1]} columns.')"
   ]
  },
  {
   "cell_type": "code",
   "execution_count": 3,
   "id": "8e1f7ebb",
   "metadata": {
    "execution": {
     "iopub.execute_input": "2021-08-24T10:11:39.333403Z",
     "iopub.status.busy": "2021-08-24T10:11:39.303457Z",
     "iopub.status.idle": "2021-08-24T10:11:39.342057Z",
     "shell.execute_reply": "2021-08-24T10:11:39.342629Z",
     "shell.execute_reply.started": "2021-08-24T10:03:09.032529Z"
    },
    "papermill": {
     "duration": 0.055951,
     "end_time": "2021-08-24T10:11:39.342793",
     "exception": false,
     "start_time": "2021-08-24T10:11:39.286842",
     "status": "completed"
    },
    "tags": []
   },
   "outputs": [
    {
     "name": "stdout",
     "output_type": "stream",
     "text": [
      "5 columns dropped, the full dataset now comprises of 75 variables.\n"
     ]
    }
   ],
   "source": [
    "# Drop columns with more than 45% missing data \n",
    "cols_to_drop = []\n",
    "for column in full_data:\n",
    "  if full_data[column].isnull().sum() / len(full_data) >= 0.4:\n",
    "    cols_to_drop.append(column)\n",
    "full_data.drop(cols_to_drop, axis=1, inplace=True)\n",
    "\n",
    "print(f'{len(cols_to_drop)} columns dropped, the full dataset now comprises of {full_data.shape[1]} variables.')"
   ]
  },
  {
   "cell_type": "code",
   "execution_count": 4,
   "id": "b7c43d5e",
   "metadata": {
    "execution": {
     "iopub.execute_input": "2021-08-24T10:11:39.368676Z",
     "iopub.status.busy": "2021-08-24T10:11:39.367775Z",
     "iopub.status.idle": "2021-08-24T10:11:39.428573Z",
     "shell.execute_reply": "2021-08-24T10:11:39.429122Z",
     "shell.execute_reply.started": "2021-08-24T10:03:09.080653Z"
    },
    "papermill": {
     "duration": 0.076516,
     "end_time": "2021-08-24T10:11:39.429277",
     "exception": false,
     "start_time": "2021-08-24T10:11:39.352761",
     "status": "completed"
    },
    "tags": []
   },
   "outputs": [
    {
     "data": {
      "text/html": [
       "<div>\n",
       "<style scoped>\n",
       "    .dataframe tbody tr th:only-of-type {\n",
       "        vertical-align: middle;\n",
       "    }\n",
       "\n",
       "    .dataframe tbody tr th {\n",
       "        vertical-align: top;\n",
       "    }\n",
       "\n",
       "    .dataframe thead th {\n",
       "        text-align: right;\n",
       "    }\n",
       "</style>\n",
       "<table border=\"1\" class=\"dataframe\">\n",
       "  <thead>\n",
       "    <tr style=\"text-align: right;\">\n",
       "      <th></th>\n",
       "      <th>Id</th>\n",
       "      <th>MSSubClass</th>\n",
       "      <th>MSZoning</th>\n",
       "      <th>LotFrontage</th>\n",
       "      <th>LotArea</th>\n",
       "      <th>Street</th>\n",
       "      <th>LotShape</th>\n",
       "      <th>LandContour</th>\n",
       "      <th>Utilities</th>\n",
       "      <th>LotConfig</th>\n",
       "      <th>...</th>\n",
       "      <th>OpenPorchSF</th>\n",
       "      <th>EnclosedPorch</th>\n",
       "      <th>3SsnPorch</th>\n",
       "      <th>ScreenPorch</th>\n",
       "      <th>PoolArea</th>\n",
       "      <th>MiscVal</th>\n",
       "      <th>MoSold</th>\n",
       "      <th>YrSold</th>\n",
       "      <th>SaleType</th>\n",
       "      <th>SaleCondition</th>\n",
       "    </tr>\n",
       "  </thead>\n",
       "  <tbody>\n",
       "    <tr>\n",
       "      <th>0</th>\n",
       "      <td>0.000000</td>\n",
       "      <td>0.235294</td>\n",
       "      <td>RL</td>\n",
       "      <td>0.150685</td>\n",
       "      <td>0.033420</td>\n",
       "      <td>Pave</td>\n",
       "      <td>Reg</td>\n",
       "      <td>Lvl</td>\n",
       "      <td>AllPub</td>\n",
       "      <td>Inside</td>\n",
       "      <td>...</td>\n",
       "      <td>0.082210</td>\n",
       "      <td>0.000000</td>\n",
       "      <td>0.0</td>\n",
       "      <td>0.0</td>\n",
       "      <td>0.0</td>\n",
       "      <td>0.0</td>\n",
       "      <td>0.090909</td>\n",
       "      <td>0.50</td>\n",
       "      <td>WD</td>\n",
       "      <td>Normal</td>\n",
       "    </tr>\n",
       "    <tr>\n",
       "      <th>1</th>\n",
       "      <td>0.000343</td>\n",
       "      <td>0.000000</td>\n",
       "      <td>RL</td>\n",
       "      <td>0.202055</td>\n",
       "      <td>0.038795</td>\n",
       "      <td>Pave</td>\n",
       "      <td>Reg</td>\n",
       "      <td>Lvl</td>\n",
       "      <td>AllPub</td>\n",
       "      <td>FR2</td>\n",
       "      <td>...</td>\n",
       "      <td>0.000000</td>\n",
       "      <td>0.000000</td>\n",
       "      <td>0.0</td>\n",
       "      <td>0.0</td>\n",
       "      <td>0.0</td>\n",
       "      <td>0.0</td>\n",
       "      <td>0.363636</td>\n",
       "      <td>0.25</td>\n",
       "      <td>WD</td>\n",
       "      <td>Normal</td>\n",
       "    </tr>\n",
       "    <tr>\n",
       "      <th>2</th>\n",
       "      <td>0.000685</td>\n",
       "      <td>0.235294</td>\n",
       "      <td>RL</td>\n",
       "      <td>0.160959</td>\n",
       "      <td>0.046507</td>\n",
       "      <td>Pave</td>\n",
       "      <td>IR1</td>\n",
       "      <td>Lvl</td>\n",
       "      <td>AllPub</td>\n",
       "      <td>Inside</td>\n",
       "      <td>...</td>\n",
       "      <td>0.056604</td>\n",
       "      <td>0.000000</td>\n",
       "      <td>0.0</td>\n",
       "      <td>0.0</td>\n",
       "      <td>0.0</td>\n",
       "      <td>0.0</td>\n",
       "      <td>0.727273</td>\n",
       "      <td>0.50</td>\n",
       "      <td>WD</td>\n",
       "      <td>Normal</td>\n",
       "    </tr>\n",
       "    <tr>\n",
       "      <th>3</th>\n",
       "      <td>0.001028</td>\n",
       "      <td>0.294118</td>\n",
       "      <td>RL</td>\n",
       "      <td>0.133562</td>\n",
       "      <td>0.038561</td>\n",
       "      <td>Pave</td>\n",
       "      <td>IR1</td>\n",
       "      <td>Lvl</td>\n",
       "      <td>AllPub</td>\n",
       "      <td>Corner</td>\n",
       "      <td>...</td>\n",
       "      <td>0.047170</td>\n",
       "      <td>0.268775</td>\n",
       "      <td>0.0</td>\n",
       "      <td>0.0</td>\n",
       "      <td>0.0</td>\n",
       "      <td>0.0</td>\n",
       "      <td>0.090909</td>\n",
       "      <td>0.00</td>\n",
       "      <td>WD</td>\n",
       "      <td>Abnorml</td>\n",
       "    </tr>\n",
       "    <tr>\n",
       "      <th>4</th>\n",
       "      <td>0.001371</td>\n",
       "      <td>0.235294</td>\n",
       "      <td>RL</td>\n",
       "      <td>0.215753</td>\n",
       "      <td>0.060576</td>\n",
       "      <td>Pave</td>\n",
       "      <td>IR1</td>\n",
       "      <td>Lvl</td>\n",
       "      <td>AllPub</td>\n",
       "      <td>FR2</td>\n",
       "      <td>...</td>\n",
       "      <td>0.113208</td>\n",
       "      <td>0.000000</td>\n",
       "      <td>0.0</td>\n",
       "      <td>0.0</td>\n",
       "      <td>0.0</td>\n",
       "      <td>0.0</td>\n",
       "      <td>1.000000</td>\n",
       "      <td>0.50</td>\n",
       "      <td>WD</td>\n",
       "      <td>Normal</td>\n",
       "    </tr>\n",
       "  </tbody>\n",
       "</table>\n",
       "<p>5 rows × 75 columns</p>\n",
       "</div>"
      ],
      "text/plain": [
       "         Id  MSSubClass MSZoning  LotFrontage   LotArea Street LotShape  \\\n",
       "0  0.000000    0.235294       RL     0.150685  0.033420   Pave      Reg   \n",
       "1  0.000343    0.000000       RL     0.202055  0.038795   Pave      Reg   \n",
       "2  0.000685    0.235294       RL     0.160959  0.046507   Pave      IR1   \n",
       "3  0.001028    0.294118       RL     0.133562  0.038561   Pave      IR1   \n",
       "4  0.001371    0.235294       RL     0.215753  0.060576   Pave      IR1   \n",
       "\n",
       "  LandContour Utilities LotConfig  ... OpenPorchSF EnclosedPorch 3SsnPorch  \\\n",
       "0         Lvl    AllPub    Inside  ...    0.082210      0.000000       0.0   \n",
       "1         Lvl    AllPub       FR2  ...    0.000000      0.000000       0.0   \n",
       "2         Lvl    AllPub    Inside  ...    0.056604      0.000000       0.0   \n",
       "3         Lvl    AllPub    Corner  ...    0.047170      0.268775       0.0   \n",
       "4         Lvl    AllPub       FR2  ...    0.113208      0.000000       0.0   \n",
       "\n",
       "  ScreenPorch PoolArea MiscVal    MoSold  YrSold  SaleType  SaleCondition  \n",
       "0         0.0      0.0     0.0  0.090909    0.50        WD         Normal  \n",
       "1         0.0      0.0     0.0  0.363636    0.25        WD         Normal  \n",
       "2         0.0      0.0     0.0  0.727273    0.50        WD         Normal  \n",
       "3         0.0      0.0     0.0  0.090909    0.00        WD        Abnorml  \n",
       "4         0.0      0.0     0.0  1.000000    0.50        WD         Normal  \n",
       "\n",
       "[5 rows x 75 columns]"
      ]
     },
     "execution_count": 4,
     "metadata": {},
     "output_type": "execute_result"
    }
   ],
   "source": [
    "# Now replace the NA values with the median for the numerical \n",
    "# columns and scale the data\n",
    "scaler = MinMaxScaler()\n",
    "\n",
    "columns = full_data.columns.values\n",
    "for column in columns:\n",
    "  if full_data[column].dtype == np.int64 or full_data[column].dtype == np.float64:\n",
    "    full_data[column] = full_data[column].fillna(full_data[column].median())\n",
    "    full_data[column] = scaler.fit_transform(np.array(full_data[column]).reshape(-1,1))\n",
    "\n",
    "# Print the updated data  \n",
    "full_data.head()"
   ]
  },
  {
   "cell_type": "code",
   "execution_count": 5,
   "id": "582a8702",
   "metadata": {
    "execution": {
     "iopub.execute_input": "2021-08-24T10:11:39.455006Z",
     "iopub.status.busy": "2021-08-24T10:11:39.454494Z",
     "iopub.status.idle": "2021-08-24T10:11:40.554002Z",
     "shell.execute_reply": "2021-08-24T10:11:40.553530Z",
     "shell.execute_reply.started": "2021-08-24T10:03:09.151551Z"
    },
    "papermill": {
     "duration": 1.115006,
     "end_time": "2021-08-24T10:11:40.554129",
     "exception": false,
     "start_time": "2021-08-24T10:11:39.439123",
     "status": "completed"
    },
    "tags": []
   },
   "outputs": [
    {
     "name": "stdout",
     "output_type": "stream",
     "text": [
      "12 columns dropped, the full dataset now comprises of 63 variables.\n"
     ]
    },
    {
     "data": {
      "image/png": "[encoded data removed]",
      "text/plain": [
       "<Figure size 1368x720 with 2 Axes>"
      ]
     },
     "metadata": {
      "needs_background": "light"
     },
     "output_type": "display_data"
    }
   ],
   "source": [
    "# Calculate the correlation of the numerical variables with the Sale Price \n",
    "# Use the training dataset that inludes the Sale Price variable  \n",
    "\n",
    "corr = train_data.corr()\n",
    "plt.subplots(figsize=(19,10))\n",
    "cmap = sns.diverging_palette(230, 20, as_cmap=True)\n",
    "sns.heatmap(corr, vmax=0.7, cmap = cmap, square=True)\n",
    "\n",
    "cols_to_drop = []\n",
    "# Get the correlation of the dependent variable with the rest of the features\n",
    "sale_price_corr = train_data.corr()['SalePrice'][:-1] \n",
    "\n",
    "# Drop all the columns from the full data that correlate < |0.12| with the sale price, \n",
    "# since will add little value to the model \n",
    "for column,row in sale_price_corr.iteritems():\n",
    "  if abs(float(row)) < 0.12:\n",
    "    cols_to_drop.append(column)\n",
    "full_data.drop(cols_to_drop, axis=1, inplace=True)\n",
    "\n",
    "print(f'{len(cols_to_drop)} columns dropped, the full dataset now comprises of {full_data.shape[1]} variables.')"
   ]
  },
  {
   "cell_type": "code",
   "execution_count": 6,
   "id": "2acb1275",
   "metadata": {
    "execution": {
     "iopub.execute_input": "2021-08-24T10:11:40.586083Z",
     "iopub.status.busy": "2021-08-24T10:11:40.585193Z",
     "iopub.status.idle": "2021-08-24T10:11:40.626705Z",
     "shell.execute_reply": "2021-08-24T10:11:40.626289Z",
     "shell.execute_reply.started": "2021-08-24T10:03:57.045122Z"
    },
    "papermill": {
     "duration": 0.060159,
     "end_time": "2021-08-24T10:11:40.626806",
     "exception": false,
     "start_time": "2021-08-24T10:11:40.566647",
     "status": "completed"
    },
    "tags": []
   },
   "outputs": [
    {
     "name": "stdout",
     "output_type": "stream",
     "text": [
      "9 columns dropped, the full dataset now comprises of 54 variables.\n"
     ]
    }
   ],
   "source": [
    "count = 0 \n",
    "columns = full_data.columns.values\n",
    "for column in columns:\n",
    "  if full_data[column].dtype not in (np.int64, np.float64) and full_data[column].nunique() > 6:\n",
    "    count += 1 \n",
    "    full_data.drop(column, axis = 1, inplace = True)\n",
    "\n",
    "print(f'{count} columns dropped, the full dataset now comprises of {full_data.shape[1]} variables.')"
   ]
  },
  {
   "cell_type": "code",
   "execution_count": 7,
   "id": "0ab306c7",
   "metadata": {
    "execution": {
     "iopub.execute_input": "2021-08-24T10:11:40.655185Z",
     "iopub.status.busy": "2021-08-24T10:11:40.654616Z",
     "iopub.status.idle": "2021-08-24T10:11:40.704741Z",
     "shell.execute_reply": "2021-08-24T10:11:40.705133Z",
     "shell.execute_reply.started": "2021-08-24T10:04:09.974728Z"
    },
    "papermill": {
     "duration": 0.065919,
     "end_time": "2021-08-24T10:11:40.705258",
     "exception": false,
     "start_time": "2021-08-24T10:11:40.639339",
     "status": "completed"
    },
    "tags": []
   },
   "outputs": [],
   "source": [
    "# Replace nas with the most frequent occurring value in the categorical data \n",
    "full_data = full_data.fillna(full_data.mode().iloc[0])"
   ]
  },
  {
   "cell_type": "code",
   "execution_count": 8,
   "id": "8cdc0658",
   "metadata": {
    "execution": {
     "iopub.execute_input": "2021-08-24T10:11:40.738394Z",
     "iopub.status.busy": "2021-08-24T10:11:40.737874Z",
     "iopub.status.idle": "2021-08-24T10:11:41.014003Z",
     "shell.execute_reply": "2021-08-24T10:11:41.014580Z",
     "shell.execute_reply.started": "2021-08-24T10:04:24.263389Z"
    },
    "papermill": {
     "duration": 0.296526,
     "end_time": "2021-08-24T10:11:41.014766",
     "exception": false,
     "start_time": "2021-08-24T10:11:40.718240",
     "status": "completed"
    },
    "tags": []
   },
   "outputs": [
    {
     "name": "stdout",
     "output_type": "stream",
     "text": [
      "The new dataframe comprises of 1459 rows and 80 columns.\n",
      "\n"
     ]
    }
   ],
   "source": [
    "# Label / one-hot encode the categorical variables\n",
    "# One-hot encode the columns that have > 2 categorical variables\n",
    "# Label-encode the columns that have only 2 categorical variables \n",
    "\n",
    "# Instanciating the labelencoder\n",
    "labelencoder = LabelEncoder()\n",
    "cols_to_drop = []\n",
    "\n",
    "columns = full_data.columns.values\n",
    "for column in columns:\n",
    "    if full_data[column].dtype not in (np.int64, np.float64) and full_data[column].nunique() > 2: \n",
    "      dummies = pd.get_dummies(full_data[column], prefix = str(column))\n",
    "      cols_to_drop.append(column)\n",
    "      full_data = pd.concat([full_data, dummies], axis = 1)\n",
    "    elif full_data[column].dtype not in (np.int64, np.float64) and full_data[column].nunique() < 3: \n",
    "      full_data[column] = labelencoder.fit_transform(full_data[column])\n",
    "      cols_to_drop.append(column)\n",
    "\n",
    "full_data.drop(cols_to_drop, axis = 1, inplace = True)\n",
    "print(f'The new dataframe comprises of {test_data.shape[0]} rows and {test_data.shape[1]} columns.\\n')"
   ]
  },
  {
   "cell_type": "code",
   "execution_count": 9,
   "id": "2bc605a0",
   "metadata": {
    "execution": {
     "iopub.execute_input": "2021-08-24T10:11:41.045526Z",
     "iopub.status.busy": "2021-08-24T10:11:41.044771Z",
     "iopub.status.idle": "2021-08-24T10:11:41.047612Z",
     "shell.execute_reply": "2021-08-24T10:11:41.047188Z",
     "shell.execute_reply.started": "2021-08-24T10:04:38.962772Z"
    },
    "papermill": {
     "duration": 0.019166,
     "end_time": "2021-08-24T10:11:41.047719",
     "exception": false,
     "start_time": "2021-08-24T10:11:41.028553",
     "status": "completed"
    },
    "tags": []
   },
   "outputs": [],
   "source": [
    "train_df = full_data[:train_data.shape[0]]\n",
    "test_df =  full_data[train_data.shape[0]:]"
   ]
  },
  {
   "cell_type": "code",
   "execution_count": 10,
   "id": "a7997c13",
   "metadata": {
    "execution": {
     "iopub.execute_input": "2021-08-24T10:11:41.082653Z",
     "iopub.status.busy": "2021-08-24T10:11:41.082000Z",
     "iopub.status.idle": "2021-08-24T10:12:13.633802Z",
     "shell.execute_reply": "2021-08-24T10:12:13.634443Z",
     "shell.execute_reply.started": "2021-08-24T10:04:55.97611Z"
    },
    "papermill": {
     "duration": 32.57412,
     "end_time": "2021-08-24T10:12:13.634647",
     "exception": false,
     "start_time": "2021-08-24T10:11:41.060527",
     "status": "completed"
    },
    "tags": []
   },
   "outputs": [
    {
     "name": "stdout",
     "output_type": "stream",
     "text": [
      "Training accuracy: 99.76%\n"
     ]
    }
   ],
   "source": [
    "from xgboost import XGBRegressor\n",
    "\n",
    "xgboost = XGBRegressor(learning_rate=0.008,\n",
    "                       n_estimators=6000,\n",
    "                       max_depth=4,\n",
    "                       min_child_weight=0,\n",
    "                       gamma=0.6,\n",
    "                       subsample=0.7,\n",
    "                       colsample_bytree=0.7,\n",
    "                       objective='reg:squarederror',\n",
    "                       nthread=-1,\n",
    "                       scale_pos_weight=1,\n",
    "                       seed=27,\n",
    "                       reg_alpha=0.00006,\n",
    "                       random_state=42)\n",
    "\n",
    "xgb = xgboost.fit(train_df,sale_price)\n",
    "training_accuracy = xgb.score(train_df,sale_price)\n",
    "print(\"Training accuracy: %.2f%%\" % (training_accuracy * 100.0))\n",
    "xgb_predictions = xgb.predict(test_df)"
   ]
  },
  {
   "cell_type": "code",
   "execution_count": 11,
   "id": "3b000ecc",
   "metadata": {
    "execution": {
     "iopub.execute_input": "2021-08-24T10:12:13.667208Z",
     "iopub.status.busy": "2021-08-24T10:12:13.666411Z",
     "iopub.status.idle": "2021-08-24T10:12:13.682994Z",
     "shell.execute_reply": "2021-08-24T10:12:13.682540Z",
     "shell.execute_reply.started": "2021-08-24T10:06:07.273516Z"
    },
    "papermill": {
     "duration": 0.033796,
     "end_time": "2021-08-24T10:12:13.683106",
     "exception": false,
     "start_time": "2021-08-24T10:12:13.649310",
     "status": "completed"
    },
    "tags": []
   },
   "outputs": [
    {
     "data": {
      "text/html": [
       "<div>\n",
       "<style scoped>\n",
       "    .dataframe tbody tr th:only-of-type {\n",
       "        vertical-align: middle;\n",
       "    }\n",
       "\n",
       "    .dataframe tbody tr th {\n",
       "        vertical-align: top;\n",
       "    }\n",
       "\n",
       "    .dataframe thead th {\n",
       "        text-align: right;\n",
       "    }\n",
       "</style>\n",
       "<table border=\"1\" class=\"dataframe\">\n",
       "  <thead>\n",
       "    <tr style=\"text-align: right;\">\n",
       "      <th></th>\n",
       "      <th>ID</th>\n",
       "      <th>SalePrice</th>\n",
       "    </tr>\n",
       "  </thead>\n",
       "  <tbody>\n",
       "    <tr>\n",
       "      <th>0</th>\n",
       "      <td>1461</td>\n",
       "      <td>120699.578125</td>\n",
       "    </tr>\n",
       "    <tr>\n",
       "      <th>1</th>\n",
       "      <td>1462</td>\n",
       "      <td>165655.218750</td>\n",
       "    </tr>\n",
       "    <tr>\n",
       "      <th>2</th>\n",
       "      <td>1463</td>\n",
       "      <td>187126.125000</td>\n",
       "    </tr>\n",
       "    <tr>\n",
       "      <th>3</th>\n",
       "      <td>1464</td>\n",
       "      <td>188307.515625</td>\n",
       "    </tr>\n",
       "    <tr>\n",
       "      <th>4</th>\n",
       "      <td>1465</td>\n",
       "      <td>180395.031250</td>\n",
       "    </tr>\n",
       "    <tr>\n",
       "      <th>...</th>\n",
       "      <td>...</td>\n",
       "      <td>...</td>\n",
       "    </tr>\n",
       "    <tr>\n",
       "      <th>1454</th>\n",
       "      <td>2915</td>\n",
       "      <td>73815.523438</td>\n",
       "    </tr>\n",
       "    <tr>\n",
       "      <th>1455</th>\n",
       "      <td>2916</td>\n",
       "      <td>73648.054688</td>\n",
       "    </tr>\n",
       "    <tr>\n",
       "      <th>1456</th>\n",
       "      <td>2917</td>\n",
       "      <td>154097.390625</td>\n",
       "    </tr>\n",
       "    <tr>\n",
       "      <th>1457</th>\n",
       "      <td>2918</td>\n",
       "      <td>112657.992188</td>\n",
       "    </tr>\n",
       "    <tr>\n",
       "      <th>1458</th>\n",
       "      <td>2919</td>\n",
       "      <td>230418.109375</td>\n",
       "    </tr>\n",
       "  </tbody>\n",
       "</table>\n",
       "<p>1459 rows × 2 columns</p>\n",
       "</div>"
      ],
      "text/plain": [
       "        ID      SalePrice\n",
       "0     1461  120699.578125\n",
       "1     1462  165655.218750\n",
       "2     1463  187126.125000\n",
       "3     1464  188307.515625\n",
       "4     1465  180395.031250\n",
       "...    ...            ...\n",
       "1454  2915   73815.523438\n",
       "1455  2916   73648.054688\n",
       "1456  2917  154097.390625\n",
       "1457  2918  112657.992188\n",
       "1458  2919  230418.109375\n",
       "\n",
       "[1459 rows x 2 columns]"
      ]
     },
     "execution_count": 11,
     "metadata": {},
     "output_type": "execute_result"
    }
   ],
   "source": [
    "submission = pd.DataFrame({'ID':test_data['Id'],'SalePrice':xgb_predictions})\n",
    "submission.to_csv('housepricepred3.csv',index = False)\n",
    "submission"
   ]
  },
  {
   "cell_type": "code",
   "execution_count": null,
   "id": "25ba9b02",
   "metadata": {
    "papermill": {
     "duration": 0.013073,
     "end_time": "2021-08-24T10:12:13.709364",
     "exception": false,
     "start_time": "2021-08-24T10:12:13.696291",
     "status": "completed"
    },
    "tags": []
   },
   "outputs": [],
   "source": []
  }
 ],
 "metadata": {
  "kernelspec": {
   "display_name": "Python 3",
   "language": "python",
   "name": "python3"
  },
  "language_info": {
   "codemirror_mode": {
    "name": "ipython",
    "version": 3
   },
   "file_extension": ".py",
   "mimetype": "text/x-python",
   "name": "python",
   "nbconvert_exporter": "python",
   "pygments_lexer": "ipython3",
   "version": "3.7.10"
  },
  "papermill": {
   "default_parameters": {},
   "duration": 43.6327,
   "end_time": "2021-08-24T10:12:15.282177",
   "environment_variables": {},
   "exception": null,
   "input_path": "__notebook__.ipynb",
   "output_path": "__notebook__.ipynb",
   "parameters": {},
   "start_time": "2021-08-24T10:11:31.649477",
   "version": "2.3.3"
  }
 },
 "nbformat": 4,
 "nbformat_minor": 5
}
